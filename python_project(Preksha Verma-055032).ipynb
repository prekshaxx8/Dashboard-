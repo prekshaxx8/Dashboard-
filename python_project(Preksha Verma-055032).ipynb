{
 "cells": [
  {
   "cell_type": "markdown",
   "id": "fba5e1aa-1d21-46de-8cc4-03e814ebdf3a",
   "metadata": {},
   "source": [
    "# **Project Report on Imports and Exports Data Analysis**"
   ]
  },
  {
   "cell_type": "markdown",
   "id": "9cb4a83e-956b-4463-a9c3-6ae1ba937b9b",
   "metadata": {},
   "source": [
    "## **Project Information**\n",
    "### * **Project Title**: Comprehensive Data Analysis of Imports and Exports Dataset\n",
    "### * **Student Name**: Preksha Verma\n",
    "### * **Enrollment Number** : 055032\n",
    "### * **Project Information** : This project contains a detailed dataset and analysis of international trade transactions, providing extensive information on both imports and exports. Designed for use in business analytics, economic research, and financial modeling, it offers a broad view of trade activities with numerous attributes that capture various dimensions of each transaction."
   ]
  },
  {
   "cell_type": "markdown",
   "id": "346c317c-ba26-4eb5-baac-63e11d438999",
   "metadata": {},
   "source": [
    "# Description of Data**\n",
    "\n",
    "* **1.Data Source & Size:**\n",
    "\n",
    "* Source: The dataset for this project was obtained from Kaggle.(https://www.kaggle.com/datasets/chakilamvishwas/imports-exports-15000)\n",
    "* Size: 15,000 records with 16 variables. (2.69 MB)\n",
    "  \n",
    "  \n",
    "* **2. Data Type:**\n",
    "This is a Cross-sectional dataset, capturing transactional data at a specific point in time.\n",
    "\n",
    "\n",
    "  **3.Data Dimension:**\n",
    "\n",
    "* Number of Variables: 16\n",
    "* Number of Observations: 15,000\n",
    "  \n",
    "  \n",
    "* **4.Data Variable Type:**\n",
    "\n",
    "* Text Variables:\n",
    "Transaction_ID, Country, Product, Import_Export, Date, Category, Port, Shipping_Method, Supplier, Customer, Payment_Terms\n",
    "* Number Variables:\n",
    "Integer: Quantity, Customs_Code, Invoice_Number\n",
    "* Decimal: Value, Weight\n",
    "\n",
    "\n",
    "* **5.Data Variable Category : Identifying Categorical (Nominal & Ordinal) and Non - Categorical Data**\n",
    "\n",
    "|Sr. No. | Data Variable | Category |\n",
    "| --- | --- | --- |\n",
    "| 1. | Transaction ID | Index (used for identifying each transaction)\n",
    "| 2. | Country | Categorical {Nominal}\n",
    "| 3. | Product | Categorical {Nominal}\n",
    "| 4. | Import Export | Categorical {Nominal}\n",
    "| 5. | Quantity | Non-Categorical\n",
    "| 6. | Value | Non-Categorical\n",
    "| 7. | Category | Categorical {Nominal}\n",
    "| 8. | Port | Categorical {Nominal}\n",
    "| 9.| Customs Code | Non-Categorical\n",
    "| 10.| Weight | Non-Categorical\n",
    "| 11.| Shipping Method | Categorical {Nominal} \n",
    "| 12.| Supplier | Categorical {Nominal} \n",
    "| 13.| Customer | Categorical {Nominal} \n",
    "| 14.| Invoice Number | Index (used for identifying each transaction)\n",
    "| 15.| Payment Terms | Categorical {Nominal}"
   ]
  },
  {
   "cell_type": "markdown",
   "id": "563f5be2",
   "metadata": {},
   "source": [
    "# Project Objectives | Problem Statements\n",
    "\n",
    "* Objective 1: Identifying top 5 countries based on import and export activities across different countries.\n",
    "* Objective 2: Understand the frequency of most sought products.\n",
    "* Objective 3: Analyze the most frequently used shipping methods and their relationship to transaction value and weight.\n",
    "* Objective 4: Analyzing the minimum and maximum value using variables.\n",
    "* Objective 5: Finding Average order value  and quantity per country \n",
    "* Objective 6: Finding Maximum Weight in KGs by Shipping Method and Category\n",
    "* Objective 7: Finding Count of products by their payment terms per Category\n",
    "* Objective 8: Ranking categories by the total economic impact (Value), higher value gets a higher rank\n",
    "  \n",
    "* Problem Statement 1: How do top 5 countries vary in terms of the volume of imports and exports?\n",
    "* Problem Statement 2: Are there specific product categories that dominate in terms of trade volume and value?\n",
    "* Problem Statement 3: Rank the most sought shipping methods for the transactions?\n",
    "* Problem Statemnet 4: Identify the range of values and outliers in the dataset\n",
    "* Problem Statemnet 5: Identify comparison of different countries in terms of purchasing behavior, helping to tailor marketing                        strategies or identify high-value markets.\n",
    "* Problem Statemnet 6: Assess which shipping methods are handling heavier products and which categories have the largest or                           heaviest product.\n",
    "* Problem Statemnet 7: Give insights into the preferred payment terms by category and can help in optimizing payment options                          for different product lines.\n",
    "* Problem Statemnet 8: Rank product categories based on their total economic impact. The categories with the highest total                            economic impact should be given the highest rank. "
   ]
  },
  {
   "cell_type": "markdown",
   "id": "9dc8fec8-36a1-4006-a13e-e1602583643d",
   "metadata": {},
   "source": [
    "# Managerial Insights based on Observations and Analysis:\n",
    "\n",
    "\n"
   ]
  },
  {
   "cell_type": "markdown",
   "id": "4ef4d94a",
   "metadata": {},
   "source": [
    "## Objective 1 "
   ]
  },
  {
   "attachments": {},
   "cell_type": "markdown",
   "id": "85ebe609",
   "metadata": {},
   "source": [
    "### Top 5 Countries in Import/Export:\n",
    "\n",
    "\n",
    "\n",
    "### Key Observations\n",
    "\n",
    "**Export-Import Balance:**\n",
    "\n",
    "* **Afghanistan:** The country has an balance of 2 in exports and imports, with 4 and 8 units of each.\n",
    "* **Albania:** Albania has a higher number of imports (7) compared to exports (4), indicating a trade deficit.\n",
    "* **Andorra** Algeria has a higher number of exports (4) compared to imports (1), indicating a trade surplus.\n",
    "* **American Samoa:** The country has a slightly higher number of imports (9) compared to exports (6), indicating a small trade deficit.\n",
    "* **Albania:** Albania also has a higher number of imports (7) compared to exports (3), indicating a trade deficit.\n",
    "\n",
    "**Country-Specific Analysis:**\n",
    "\n",
    "* **Albania,Afganistan,Andorra and American Samoa:** These countries demonstrate a significant difference between exports and imports, suggesting a focus on either exporting or importing specific goods or services.\n",
    "* **Algeria:** Algeria has relatively balanced trade, indicating a more diversified import-export profile.\n",
    "\n",
    "**Potential Implications:**\n",
    "\n",
    "* **Economic Growth:** Countries with a trade surplus (Andorra) might experience economic growth due to increased exports and foreign exchange inflows.\n",
    "* **Dependency:** Countries with a trade deficit (Algeria, American Samoa, Albania) might be more dependent on imports and vulnerable to external economic shocks.\n",
    "* **Trade Policies:** Governments might implement trade policies to address trade imbalances and promote economic growth.\n",
    "\n",
    "## Managerial Insights and Recommendations\n",
    "\n",
    "**Based on the provided data and analysis, here are some key managerial insights and recommendations:**\n",
    "\n",
    "### General Observations\n",
    "* **Trade Imbalances:** The data reveals that most countries in the sample have trade imbalances, with either a surplus or deficit. This suggests that these countries have specialized economies focused on specific sectors.\n",
    "* **Diversification:** Countries with a more balanced trade profile, such as Andorra, may be less vulnerable to economic shocks.\n",
    "* **Trade Policies:** Governments should carefully consider trade policies to address trade imbalances and promote economic growth.\n",
    "\n",
    "### Country-Specific Recommendations\n",
    "\n",
    "**Andorra:**\n",
    "* **Leverage Export Advantages:** Given its trade surplus, Andorra should explore opportunities to expand its exports and identify new markets.\n",
    "* **Diversify Imports:** To reduce dependence on imports, Andorra could consider diversifying its supply chains and exploring domestic production alternatives.\n",
    "\n",
    "**Algeria:**\n",
    "* **Import Substitution:** Algeria might consider policies to promote domestic production of goods that are currently imported, reducing its trade deficit.\n",
    "* **Export Promotion:** The government could implement incentives to encourage exports of Algerian products and services.\n",
    "\n",
    "**American Samoa and Albania:**\n",
    "* **Maintain Trade Balance:** These countries should strive to maintain a balanced trade profile, ensuring that imports and exports are aligned.\n",
    "* **Explore Export Opportunities:** Both countries could identify potential export markets for their products and services.\n",
    "\n",
    "### Overall Recommendations\n",
    "* **Trade Data Analysis:** Regular analysis of trade data is essential for identifying trends, opportunities, and challenges.\n",
    "* **Trade Agreements:** Countries should consider negotiating trade agreements to improve market access and reduce trade barriers.\n",
    "* **Economic Diversification:** To reduce vulnerability to economic shocks, countries should diversify their economies and promote multiple sectors.\n",
    "* **Infrastructure Development:** Investments in infrastructure, such as transportation and logistics, can facilitate trade and reduce costs.\n",
    "* **Education and Skill Development:** Investing in education and skill development can enhance the competitiveness of a country's workforce and exports.\n",
    "\n",
    "By carefully considering these insights and recommendations, governments and businesses can make informed decisions to optimize their trade strategies and promote economic growth."
   ]
  },
  {
   "cell_type": "markdown",
   "id": "b120f4ee",
   "metadata": {},
   "source": [
    "## Objective 2"
   ]
  },
  {
   "attachments": {},
   "cell_type": "markdown",
   "id": "60735f47",
   "metadata": {},
   "source": [
    "##### Most Frequent Products:\n",
    "\n"
   ]
  },
  {
   "cell_type": "markdown",
   "id": "06f42b2f",
   "metadata": {},
   "source": [
    "## Objective 3"
   ]
  },
  {
   "cell_type": "markdown",
   "id": "b8ec24ce",
   "metadata": {},
   "source": [
    "| Shipping_Method | Frequency |\n",
    "|---|---|\n",
    "| Air | 1014 |\n",
    "| Sea | 1002 |\n",
    "| Land | 985 |\n",
    "\n",
    "\n",
    "### Frequency of Shipping Method:\n",
    "\n",
    "Sea (1048): Sea shipping is the most common method.\n",
    "\n",
    "Air (991) is the most sought after air and Land (962) is the least common method.\n",
    "\n",
    "This nearly even distribution of shipping methods suggests flexibility in shipping based on product or location requirements.\n",
    "\n",
    "### Managerial Insights & Recommendations :\n",
    "\n",
    "### 1\\. **Shipping Method Flexibility:**\n",
    "\n",
    "*   **Leverage All Modes:** The relatively even distribution of shipping methods indicates that the company has the flexibility to choose the most suitable mode for different products, destinations, and time-sensitive requirements.\n",
    "    \n",
    "*   **Optimize Costs and Delivery Times:** Continuously evaluate the costs and delivery times associated with each shipping method to identify opportunities for cost savings or faster delivery times.\n",
    "    \n",
    "\n",
    "### 2\\. **Air Shipping Strategy:**\n",
    "\n",
    "*   **Analyze Profitability:** Given that air shipping is the most common method, assess its profitability. Identify high-margin products or routes where the premium associated with air shipping is justified.\n",
    "    \n",
    "*   **Explore Consolidation Opportunities:** Consider consolidating air shipments to reduce costs per unit. Explore partnerships with other companies or industry associations to share transportation costs.\n",
    "    \n",
    "\n",
    "### 3\\. **Sea and Land Shipping Optimization:**\n",
    "\n",
    "*   **Identify Cost-Effective Routes:** For sea and land shipping, focus on identifying routes with lower transportation costs. Explore opportunities to negotiate better rates with carriers.\n",
    "    \n",
    "*   **Improve Inventory Management:** Optimize inventory levels to minimize the need for expedited shipping via air. Implement effective demand forecasting and inventory replenishment strategies.\n",
    "    \n",
    "\n",
    "### 4\\. **Data-Driven Decision Making:**\n",
    "\n",
    "*   **Track and Analyze Metrics:** Continuously track key performance indicators (KPIs) related to shipping, such as cost per unit, delivery time, and customer satisfaction. Analyze this data to identify trends and areas for improvement.\n",
    "    \n",
    "*   **Utilize Technology:** Implement transportation management systems (TMS) to streamline shipping operations, optimize routes, and track shipments in real-time.\n",
    "    \n",
    "\n",
    "### 5\\. **Customer Satisfaction and Service:**\n",
    "\n",
    "*   **Meet Customer Expectations:** Ensure that the chosen shipping method aligns with customer expectations for delivery time and cost. Monitor customer feedback to identify areas for improvement.\n",
    "    \n",
    "*   **Provide Visibility:** Offer customers real-time tracking information and proactive communication about shipment status to enhance the customer experience.\n",
    "    \n",
    "\n",
    "**By implementing these recommendations, the company can optimize its shipping operations, reduce costs, improve customer satisfaction, and maintain flexibility in meeting diverse shipping needs.**"
   ]
  },
  {
   "cell_type": "markdown",
   "id": "3eecdd93",
   "metadata": {},
   "source": [
    "## Objective 4"
   ]
  },
  {
   "cell_type": "markdown",
   "id": "abe28829",
   "metadata": {},
   "source": [
    "### Minimum and Maximum Table:\n",
    "\n",
    "\"\"\"\n",
    "\n",
    "\n",
    "**Insights:**\n",
    "\n",
    "*   **Geographic Range:** The data spans from Afghanistan to Zimbabwe, indicating a wide range of geographical coverage.\n",
    "    \n",
    "*   **Product Variety:** The products range from American goods to toys, suggesting diversity in the traded items.\n",
    "    \n",
    "*   **Trade Balance:** The minimum and maximum values show both import and export transactions, suggesting a balanced trade flow.\n",
    "    \n",
    "*   **Shipping Methods:** Both air and sea shipping are used, indicating flexibility in transportation options.\n",
    "    \n",
    "*   **Payment Terms:** Both cash on delivery and prepaid payment terms are utilized, reflecting different business practices.\n",
    "    \n",
    "\n"
   ]
  },
  {
   "attachments": {},
   "cell_type": "markdown",
   "id": "6bbc80db",
   "metadata": {},
   "source": [
    "### Grouping by 'Country' and calculating the average for 'Value' and 'Quantity'\n",
    "\n",
    "\n",
    "\n",
    "| Country | Avg_Value | Avg_Quantity |\n",
    "|1\tSwaziland\t|7507.34\t|5801.00|\n",
    "|2\tSyrian Arab Republic\t|7227.58|\t3940.18|\n",
    "|3\tSaint Lucia|\t7009.74\t4416.60|\n",
    "|4\tSao Tome and Principe|\t6931.87\t5119.00|\n",
    "|5\tUnited States of America|\t6930.72\t5729.38|\n",
    "\n",
    "\n",
    "### Key Analysis and Observations\n",
    "\n",
    "**1. Average Value:**\n",
    "\n",
    "* Swaziland has the highest average value at 7507.34.\n",
    "* Syrian Arab Republic has the second highest average value at 7227.58.\n",
    "* The average values for St. Lucia, Sao Tome and Principe, are relatively close to each other, ranging from 6931.87 to 6930.72.\n",
    "\n",
    "**2. Average Quantity:**\n",
    "\n",
    "* Swaziland also has the highest average quantity at 5801.\n",
    "* USA has the second highest average quantity at 5729.38.\n",
    "* Syrian Arab Republic has the lowest average quantity at 3940.18.\n",
    "\n",
    "**3. Relationship between Average Value and Quantity:**\n",
    "\n",
    "* There appears to be a general correlation between average value and quantity. However, this relationship is not perfectly linear. For example, Switzerland has a higher average value than Palau but a lower average quantity.\n",
    "\n",
    "**4. Country-Specific Observations:**\n",
    "\n",
    "* Swaziland has the highest average value and quantity, suggesting it may be producing or consuming high-value goods or services in large quantities.\n",
    "* Syrian Arab Republic has a high average value but a relatively low average quantity, indicating it may be producing or consuming high-value goods or services in smaller quantities.\n",
    "\n",
    "### Managerial Insights\n",
    "\n",
    "**Key Findings and Implications**\n",
    "\n",
    "1. **Country-Specific Performance Analysis:**\n",
    "\n",
    "   * **Swaziland:** This country exhibits the highest average value and quantity, suggesting it might be a significant market or producer of high-value goods or services.\n",
    "   * **Syrian Arab Republic:** While it has a high average value, its lower average quantity indicates a potential focus on high-value, niche products or services.\n",
    "   * **St. Lucia, Sao Tome and Principe:** These countries have relatively similar average values and quantities, suggesting a more balanced market or production profile.\n",
    "\n",
    "2. **Pricing and Demand Dynamics:**\n",
    "\n",
    "   * **Solomon Islands:** The high average value and quantity might indicate strong demand for premium products or services in this country.\n",
    "   * **Switzerland:** The combination of high value and lower quantity suggests a market with a willingness to pay higher prices for specialized goods or services.\n",
    "   * **Other Countries:** The relatively similar average values and quantities in Palau, Somalia, and Guadeloupe might suggest a more competitive market with price sensitivity.\n",
    "\n",
    "3. **Market Segmentation and Targeting:**\n",
    "\n",
    "   * **Swaziland:** Businesses could focus on offering high-quality, premium products or services to cater to the strong demand.\n",
    "   * **Switzerland:** Targeting niche markets or segments that value specialized products or services could be effective.\n",
    "   * **Other Countries:** A more general market approach with a focus on competitive pricing and product differentiation might be suitable.\n",
    "\n",
    "4. **Supply Chain and Operations:**\n",
    "\n",
    "   * **Swaziland:** Businesses might need to invest in efficient supply chains to meet the demand for high-value goods or services.\n",
    "   * **Switzerland:** A focus on quality control and customization might be necessary to cater to the specialized needs of the market.\n",
    "   * **Other Countries:** A more standardized approach to supply chain and operations might be sufficient.\n",
    "\n",
    "### Recommendations\n",
    "\n",
    "* **Conduct Deeper Market Research:** Gather more detailed information about consumer preferences, market trends, and the competitive landscape in each country.\n",
    "* **Tailor Product Offerings:** Customize product offerings and marketing strategies to align with the specific needs and preferences of each market.\n",
    "* **Optimize Supply Chain:** Ensure efficient supply chains and operations to meet demand and maintain competitive pricing.\n",
    "* **Monitor Market Dynamics:** Continuously monitor market changes and adjust strategies accordingly to stay ahead of the competition.\n",
    "* **Consider Partnerships:** Explore strategic partnerships with local businesses or distributors to enhance market penetration and understanding.\n",
    "\n",
    "**By implementing these recommendations, businesses can leverage the insights from this analysis to make informed decisions, optimize their market strategies, and improve overall performance in each country.**"
   ]
  },
  {
   "cell_type": "markdown",
   "id": "f376e312",
   "metadata": {},
   "source": [
    "## Objective 6\n"
   ]
  },
  {
   "attachments": {},
   "cell_type": "markdown",
   "id": "2caa95e5",
   "metadata": {},
   "source": [
    "### Findinig Maximum Weight in KGs per Shipping Method and Category\n",
    "\n",
    "\n",
    "### Key Observations\n",
    "\n",
    "**Category Variation**\n",
    "\n",
    "* **Machinery:** Across all shipping methods, Machinery consistently has the highest maximum weight allowed. This suggests that it's the heaviest category among the listed ones.\n",
    "* **Furtniture:** On the other hand, furniture generally has the lowest maximum weight restrictions, implying it's the lightest category.\n",
    "\n",
    "**Shipping Method Variation**\n",
    "\n",
    "* **Air:** Air shipping generally has lower maximum weight limits compared to Land and Sea, likely due to the weight restrictions imposed by aircraft.\n",
    "* **Sea:** sea shipping shipping falls somewhere between Air and Land in terms of weight limits. It might be influenced by factors like container size and ship capacity. often has the highest maximum weight limits, especially for Machinery. \n",
    "* **Land:** land has lowest weight limits.This could be attributed to the capacity of trucks and other land transportation vehicles.\n",
    "\n",
    "**Specific Observations**\n",
    "\n",
    "* **Clothing:** Air shipping has the lowest maximum weight for Clothing, while Sea shipping has the highest.\n",
    "* **Furniture:** Sea shipping consistently allows for the highest maximum weight for Furniture.\n",
    "* **Machinery:** There's less variation in maximum weight for Machinery across different shipping methods.\n",
    "\n",
    "**Potential Implications**\n",
    "\n",
    "* **Shipping Costs:** Heavier items typically incur higher shipping costs. This analysis can help businesses determine the most cost-effective shipping method for different product categories.\n",
    "* **Packaging:** The maximum weight limits might influence packaging decisions, such as the materials used and the number of items bundled together.\n",
    "* **Product Design:** Manufacturers might consider the weight restrictions when designing products to optimize shipping efficiency and costs.\n",
    "\n",
    "### Statistical Analysis:\n",
    "\n",
    "**Chi-Square Test:**\n",
    "\n",
    "The chi-square test was conducted to determine if there is a significant association between Shipping Method and Category in terms of maximum weight. The results are as follows:\n",
    "\n",
    "* Chi-square statistic: 1.4769034585807126\n",
    "* p-value: 0.9930847766806941\n",
    "\n",
    "**Based on the p-value, there is no significant association between Shipping Method and Category. This suggests that the maximum weight allowed for a product is not significantly influenced by the shipping method chosen.**\n",
    "\n",
    "### Managerial Insights\n",
    "\n",
    "**Key Findings and Implications**\n",
    "\n",
    "1. **Category-Based Shipping Strategies:**\n",
    "\n",
    "   * **Machinery:** Given its high weight, Machinery might benefit from **Land** or **Sea** shipping for cost-effectiveness.\n",
    "   * **Clothing:** **Air** shipping is often the most suitable option due to its lower weight limits.\n",
    "   * **Electronics, Furniture, and Toys:** These categories have less variation in weight restrictions, allowing for more flexibility in shipping method selection. However, **Land** shipping might be preferred for Furniture due to its consistently higher weight limits.\n",
    "\n",
    "2. **Packaging Optimization:**\n",
    "\n",
    "   * **Heavy Items:** For Machinery and Furniture, consider using **sturdy, lightweight materials** to reduce overall weight.\n",
    "   * **Lightweight Items:** For Clothing and Electronics, **optimize packaging** to maximize the number of items per shipment without exceeding weight limits.\n",
    "\n",
    "3. **Product Design Considerations:**\n",
    "\n",
    "   * **Weight Reduction:** If possible, design products to **minimize weight** without compromising functionality or quality. This can lead to lower shipping costs.\n",
    "   * **Dimensional Optimization:** Consider the **dimensions** of products along with weight. Some shipping methods have limitations on both weight and dimensions.\n",
    "\n",
    "4. **Shipping Cost Analysis:**\n",
    "\n",
    "   * **Cost-Benefit Analysis:** Regularly evaluate the **costs** associated with different shipping methods and compare them to the potential **benefits** of faster delivery or reduced handling.\n",
    "   * **Negotiate Rates:** Leverage your shipping volume to negotiate **favorable rates** with carriers.\n",
    "\n",
    "5. **Flexibility and Adaptability:**\n",
    "\n",
    "   * **Market Dynamics:** Be prepared to **adjust** shipping strategies based on changes in market conditions, customer demands, and shipping costs.\n",
    "   * **Emergency Situations:** Have contingency plans in place to handle **urgent shipments** that might require expedited shipping or alternative methods.\n",
    "\n",
    "### Recommendations\n",
    "\n",
    "**Our analysis suggests the following actions to optimize your shipping strategies:**\n",
    "\n",
    "* **Regularly Review Shipping Data:** Track shipping costs, delivery times, and customer satisfaction to identify areas for improvement.\n",
    "* **Utilize Shipping Software:** Implement software to optimize shipping processes, calculate costs, and track shipments effectively.\n",
    "* **Consider Third-Party Logistics (3PL):** Partner with 3PL providers for specialized services like warehousing, transportation management, and customs clearance.\n",
    "* **Stay Informed About Shipping Regulations:** Keep up-to-date with industry regulations, tariffs, and trade agreements that might impact shipping costs and operations.\n",
    "\n",
    "**By implementing these recommendations, the organization can optimize its shipping strategies, reduce costs, and improve overall supply chain efficiency.**\n",
    "\n",
    "\n",
    "\n"
   ]
  },
  {
   "cell_type": "markdown",
   "id": "09c7d080",
   "metadata": {},
   "source": [
    "## Objective 7 "
   ]
  },
  {
   "attachments": {},
   "cell_type": "markdown",
   "id": "57f46e7d",
   "metadata": {},
   "source": [
    "### Count of products by their payment terms per Category\n",
    "\n",
    "\n",
    "\n",
    "### Key Analysis and Observations\n",
    "\n",
    "**Payment Term Distribution:**\n",
    "\n",
    "* Across all categories, the most common payment terms are \"Cash on Delivery\" and \"Net 30.\" This suggests that a majority of customers prefer immediate payment or short-term credit.\n",
    "\n",
    "**Category Variations:**\n",
    "\n",
    "* **Clothing:** \"Cash on Delivery\" is the most popular payment term, followed by \"Net 30.\" This indicates a preference for immediate payment or short-term credit, possibly due to the lower value of clothing items.\n",
    "* **Electronics:** \"Net 30\" is the most popular payment term, followed by \"Cash on Delivery.\" This suggests that customers may be more willing to pay on credit for higher-value electronic products.\n",
    "* **Furniture:** Similar to Electronics, \"Net 30\" is the preferred payment term, indicating a willingness to pay on credit for larger purchases.\n",
    "* **Machinery:** \"Net 60\" and \"Prepaid\" are slightly more popular than \"Cash on Delivery\" and \"Net 30.\" This suggests that customers in this category might require longer payment terms, possibly due to the higher value and complexity of machinery purchases.\n",
    "* **Toys:** \"Prepaid\" is the most popular payment term, followed by \"Cash on Delivery.\" This indicates a preference for immediate payment, likely due to the lower value of toys and the convenience of prepaid options.\n",
    "\n",
    "### Statistical Analysis\n",
    "\n",
    "**Chi-Square Test:**\n",
    "\n",
    "A chi-square test was conducted to determine if there is a significant association between Category and Payment_Terms. The results are as follows:\n",
    "\n",
    "* Chi-square statistic: 7.1827090450111\n",
    "* p-value: 0.8453068394556151\n",
    "\n",
    "**Based on the p-value, there is no significant association between Category and Payment_Terms. This suggests that the choice of payment term is not significantly influenced by the product category.**\n",
    "\n",
    "### Managerial Insights\n",
    "\n",
    "**1. Credit Policy Optimization:**\n",
    "\n",
    "* **Category-Specific Policies:** Consider implementing different credit policies for different categories based on their payment term preferences. For example, offer more flexible payment terms for Machinery, while maintaining stricter terms for Clothing and Toys.\n",
    "* **Risk Assessment:** Evaluate the creditworthiness of customers before offering extended payment terms, especially for higher-value items.\n",
    "\n",
    "**2. Pricing Strategies:**\n",
    "\n",
    "* **Discounts for Early Payment:** Incentivize customers to pay earlier by offering discounts for \"Cash on Delivery\" or \"Net 30\" payments.\n",
    "* **Interest Charges:** Implement reasonable interest charges for late payments to encourage timely payments and maintain cash flow.\n",
    "\n",
    "**3. Payment Options:**\n",
    "\n",
    "* **Expand Payment Options:** Offer a variety of payment options, such as credit cards, digital wallets, and installment plans, to cater to different customer preferences.\n",
    "* **Online Payment Gateways:** Ensure secure and efficient online payment gateways to facilitate easy transactions.\n",
    "\n",
    "**4. Customer Relationship Management:**\n",
    "\n",
    "* **Personalized Communication:** Communicate payment terms clearly and effectively to customers, tailoring the communication to their specific needs and preferences.\n",
    "* **Follow-up and Collections:** Implement efficient follow-up and collections processes to minimize late payments and bad debts.\n",
    "\n",
    "**5. Inventory Management:**\n",
    "\n",
    "* **Demand Forecasting:** Use payment term data to forecast demand and optimize inventory levels, reducing the risk of stockouts or excess inventory.\n",
    "\n",
    "**6. Financial Analysis:**\n",
    "\n",
    "* **Cash Flow Management:** Monitor cash flow closely to ensure adequate funds for operations and investments.\n",
    "* **Profitability Analysis:** Evaluate the impact of different payment terms on profitability and make adjustments as needed.\n",
    "\n",
    "**By implementing these managerial insights, businesses can optimize their payment policies, improve customer satisfaction, and enhance overall financial performance.**"
   ]
  },
  {
   "cell_type": "markdown",
   "id": "f8e97e66",
   "metadata": {},
   "source": [
    "## Observation 8"
   ]
  },
  {
   "attachments": {},
   "cell_type": "markdown",
   "id": "70253b53",
   "metadata": {},
   "source": [
    "### Rank categories based on the most preferred Category(i.e., highest total economic impact)\n",
    "\n",
    "\n",
    "\n",
    "### Key Findings\n",
    "\n",
    "* **Electronics Dominates:** The \"Electronic\" category has the highest Total Economic Impact, significantly surpassing the other categories. This suggests that furniture sales or production have the greatest economic contribution.\n",
    "* **Close Competition:** The remaining categories (Toys, Clothing, Machinery, and Furniture) have relatively similar economic impacts, indicating a competitive landscape.\n",
    "\n",
    "### Managerial Insights and Recommendations\n",
    "\n",
    "**1. Focus on Electronics:**\n",
    "\n",
    "* **Product Innovation:** Continue to invest in innovative electronic designs and features to maintain market leadership.\n",
    "* **Market Expansion:** Explore opportunities to expand into new electronic markets or segments.\n",
    "* **Supply Chain Optimization:** Ensure efficient supply chains to reduce costs and improve product availability.\n",
    "\n",
    "**2. Competitive Analysis:**\n",
    "\n",
    "* **Benchmarking:** Regularly benchmark your performance against competitors in the Toys, Clothing, Machinery, and Furniture categories to identify areas for improvement.\n",
    "* **Product Differentiation:** Develop unique selling propositions for your products to differentiate them from competitors.\n",
    "* **Pricing Strategies:** Analyze competitor pricing and adjust your own pricing strategies accordingly to maintain market share and profitability.\n",
    "\n",
    "**3. Diversification:**\n",
    "\n",
    "* **New Categories:** Consider expanding into new product categories to reduce reliance on the Electronic category and diversify revenue streams.\n",
    "* **Related Products:** Explore opportunities to offer complementary products or services to increase customer value and cross-selling.\n",
    "\n",
    "**4. Customer Satisfaction:**\n",
    "\n",
    "* **Feedback Analysis:** Gather customer feedback to understand their needs and preferences.\n",
    "* **Customer Service:** Provide excellent customer service to build loyalty and positive word-of-mouth.\n",
    "\n",
    "**5. Sustainability:**\n",
    "\n",
    "* **Ethical Sourcing:** Ensure that your products are sourced ethically and sustainably.\n",
    "* **Environmental Impact:** Minimize your business's environmental impact by adopting sustainable practices.\n",
    "\n",
    "**6. Technological Advancements:**\n",
    "\n",
    "* **Innovation:** Stay updated on technological advancements in your industry and explore opportunities to incorporate them into your products or processes.\n",
    "* **Digital Transformation:** Leverage digital technologies to improve efficiency, enhance customer experience, and gather valuable data.\n",
    "\n",
    "**By implementing these managerial insights, businesses can capitalize on their strengths in the Furniture category while strategically addressing the competitive landscape in other areas. This will help them maintain a sustainable and profitable position in the market.**"
   ]
  },
  {
   "cell_type": "markdown",
   "id": "4e245be0-b659-48cc-a471-7ccb47459b7a",
   "metadata": {},
   "source": [
    "# Recommendations\n",
    "**Data-Driven Decision-Making: Implement regular monitoring and analysis of trade data to spot emerging trends. Leveraging advanced analytics tools like predictive modeling could further enhance the accuracy of future trade predictions.\n",
    "Optimize Shipping Methods for Cost Efficiency: For lower-value goods, businesses could explore more cost-effective shipping methods, potentially using consolidated shipping or partnerships with local carriers to reduce expenses.\n",
    "Country-Specific Partnerships: Develop strategic partnerships in countries with high import/export activities to capitalize on local market trends. Engaging in joint ventures or partnerships with local firms can improve access to resources and lower operational costs.**"
   ]
  },
  {
   "cell_type": "raw",
   "id": "507f1ca7",
   "metadata": {},
   "source": [
    "-----------------------X-----------------------------------------------------------------------------------X--------------------"
   ]
  },
  {
   "cell_type": "markdown",
   "id": "b6671f1a-0c51-40ce-9c7b-edb052f30858",
   "metadata": {},
   "source": [
    "# Importing Relevant Python Libraries.\n"
   ]
  },
  {
   "cell_type": "code",
   "execution_count": 103,
   "id": "10f5e30d",
   "metadata": {},
   "outputs": [],
   "source": [
    "import pandas as pd\n",
    "import numpy as np\n",
    "import seaborn as sns\n",
    "import matplotlib.pyplot as plt\n",
    "import scipy.stats as stats\n",
    "from scipy.stats import chi2_contingency"
   ]
  },
  {
   "cell_type": "code",
   "execution_count": 8,
   "id": "b3ab6c98-3e32-4d3e-82fa-d5afbb57c4d5",
   "metadata": {},
   "outputs": [],
   "source": [
    "# Loading the Data.\n",
    "data = pd.read_csv(\"C:\\\\Users\\\\hp\\\\Desktop\\\\DEVP\\\\archive (2)\\\\dataset.csv\")"
   ]
  },
  {
   "cell_type": "code",
   "execution_count": 10,
   "id": "3da21b9c-3a91-41b5-b3d7-6101e39ebd4c",
   "metadata": {},
   "outputs": [
    {
     "data": {
      "text/plain": [
       "(15000, 16)"
      ]
     },
     "execution_count": 10,
     "metadata": {},
     "output_type": "execute_result"
    }
   ],
   "source": [
    "# Dimensions of Data.\n",
    "data.shape"
   ]
  },
  {
   "cell_type": "code",
   "execution_count": 37,
   "id": "eae41ff1-61bd-4412-b7ef-89d6eb1aef16",
   "metadata": {},
   "outputs": [],
   "source": [
    "# Creating an Unique Sample of 2001 Records using Student Roll Number as Random State.\n",
    "sample=data.sample(n=3001, random_state=55032)"
   ]
  },
  {
   "cell_type": "code",
   "execution_count": 39,
   "id": "18aaf9d9-94e5-4836-bd6c-9935fbc3ce95",
   "metadata": {},
   "outputs": [
    {
     "data": {
      "text/plain": [
       "(3001, 16)"
      ]
     },
     "execution_count": 39,
     "metadata": {},
     "output_type": "execute_result"
    }
   ],
   "source": [
    "# Dimensions of Sample Data.\n",
    "sample.shape"
   ]
  },
  {
   "cell_type": "code",
   "execution_count": 41,
   "id": "a275ff0d-1f47-45f5-83f7-062875ee8401",
   "metadata": {},
   "outputs": [
    {
     "name": "stdout",
     "output_type": "stream",
     "text": [
      "<class 'pandas.core.frame.DataFrame'>\n",
      "Index: 3001 entries, 14626 to 3809\n",
      "Data columns (total 16 columns):\n",
      " #   Column           Non-Null Count  Dtype  \n",
      "---  ------           --------------  -----  \n",
      " 0   Transaction_ID   3001 non-null   object \n",
      " 1   Country          3001 non-null   object \n",
      " 2   Product          3001 non-null   object \n",
      " 3   Import_Export    3001 non-null   object \n",
      " 4   Quantity         3001 non-null   int64  \n",
      " 5   Value            3001 non-null   float64\n",
      " 6   Date             3001 non-null   object \n",
      " 7   Category         3001 non-null   object \n",
      " 8   Port             3001 non-null   object \n",
      " 9   Customs_Code     3001 non-null   int64  \n",
      " 10  Weight           3001 non-null   float64\n",
      " 11  Shipping_Method  3001 non-null   object \n",
      " 12  Supplier         3001 non-null   object \n",
      " 13  Customer         3001 non-null   object \n",
      " 14  Invoice_Number   3001 non-null   int64  \n",
      " 15  Payment_Terms    3001 non-null   object \n",
      "dtypes: float64(2), int64(3), object(11)\n",
      "memory usage: 398.6+ KB\n"
     ]
    }
   ],
   "source": [
    "# Sample Data Information.\n",
    "sample.info()"
   ]
  },
  {
   "cell_type": "code",
   "execution_count": 43,
   "id": "2a9dae43-e316-4f3d-b5e6-fd96e33ca618",
   "metadata": {},
   "outputs": [
    {
     "data": {
      "text/html": [
       "<div>\n",
       "<style scoped>\n",
       "    .dataframe tbody tr th:only-of-type {\n",
       "        vertical-align: middle;\n",
       "    }\n",
       "\n",
       "    .dataframe tbody tr th {\n",
       "        vertical-align: top;\n",
       "    }\n",
       "\n",
       "    .dataframe thead th {\n",
       "        text-align: right;\n",
       "    }\n",
       "</style>\n",
       "<table border=\"1\" class=\"dataframe\">\n",
       "  <thead>\n",
       "    <tr style=\"text-align: right;\">\n",
       "      <th></th>\n",
       "      <th>Transaction_ID</th>\n",
       "      <th>Country</th>\n",
       "      <th>Product</th>\n",
       "      <th>Import_Export</th>\n",
       "      <th>Quantity</th>\n",
       "      <th>Value</th>\n",
       "      <th>Date</th>\n",
       "      <th>Category</th>\n",
       "      <th>Port</th>\n",
       "      <th>Customs_Code</th>\n",
       "      <th>Weight</th>\n",
       "      <th>Shipping_Method</th>\n",
       "      <th>Supplier</th>\n",
       "      <th>Customer</th>\n",
       "      <th>Invoice_Number</th>\n",
       "      <th>Payment_Terms</th>\n",
       "    </tr>\n",
       "  </thead>\n",
       "  <tbody>\n",
       "    <tr>\n",
       "      <th>14626</th>\n",
       "      <td>023fa0e1-14f7-4227-80a7-f32b9c9d4526</td>\n",
       "      <td>Germany</td>\n",
       "      <td>our</td>\n",
       "      <td>Export</td>\n",
       "      <td>1088</td>\n",
       "      <td>8651.59</td>\n",
       "      <td>16-12-2022</td>\n",
       "      <td>Furniture</td>\n",
       "      <td>West Alex</td>\n",
       "      <td>271900</td>\n",
       "      <td>4449.82</td>\n",
       "      <td>Land</td>\n",
       "      <td>Ball-Lopez</td>\n",
       "      <td>Monica Bryant</td>\n",
       "      <td>988577</td>\n",
       "      <td>Net 30</td>\n",
       "    </tr>\n",
       "    <tr>\n",
       "      <th>1913</th>\n",
       "      <td>f89ed0ff-2c8c-43fc-9759-b929ab9873c4</td>\n",
       "      <td>Mauritius</td>\n",
       "      <td>social</td>\n",
       "      <td>Import</td>\n",
       "      <td>1695</td>\n",
       "      <td>8720.44</td>\n",
       "      <td>4/10/2019</td>\n",
       "      <td>Furniture</td>\n",
       "      <td>West Neil</td>\n",
       "      <td>605760</td>\n",
       "      <td>2724.73</td>\n",
       "      <td>Land</td>\n",
       "      <td>Joseph, Hess and Clay</td>\n",
       "      <td>Kelly Hill</td>\n",
       "      <td>39775241</td>\n",
       "      <td>Net 30</td>\n",
       "    </tr>\n",
       "    <tr>\n",
       "      <th>14399</th>\n",
       "      <td>d44ba724-0e10-4b8e-8771-1a7ea931f804</td>\n",
       "      <td>Afghanistan</td>\n",
       "      <td>case</td>\n",
       "      <td>Import</td>\n",
       "      <td>761</td>\n",
       "      <td>9169.49</td>\n",
       "      <td>31-08-2022</td>\n",
       "      <td>Machinery</td>\n",
       "      <td>North Luis</td>\n",
       "      <td>270903</td>\n",
       "      <td>4784.35</td>\n",
       "      <td>Air</td>\n",
       "      <td>Jones-Simmons</td>\n",
       "      <td>Marcus Thompson</td>\n",
       "      <td>58701957</td>\n",
       "      <td>Prepaid</td>\n",
       "    </tr>\n",
       "    <tr>\n",
       "      <th>489</th>\n",
       "      <td>de386aeb-ea96-4be6-a99c-f16b5a7583c0</td>\n",
       "      <td>Turkey</td>\n",
       "      <td>community</td>\n",
       "      <td>Export</td>\n",
       "      <td>5265</td>\n",
       "      <td>3894.47</td>\n",
       "      <td>21-12-2022</td>\n",
       "      <td>Machinery</td>\n",
       "      <td>Lake Stacy</td>\n",
       "      <td>251444</td>\n",
       "      <td>804.72</td>\n",
       "      <td>Land</td>\n",
       "      <td>Gutierrez, Sullivan and Middleton</td>\n",
       "      <td>Kelsey Christensen</td>\n",
       "      <td>85046533</td>\n",
       "      <td>Net 60</td>\n",
       "    </tr>\n",
       "    <tr>\n",
       "      <th>4993</th>\n",
       "      <td>7e08a22e-2ddc-4d77-9479-543214d71c50</td>\n",
       "      <td>Anguilla</td>\n",
       "      <td>morning</td>\n",
       "      <td>Import</td>\n",
       "      <td>8879</td>\n",
       "      <td>9133.40</td>\n",
       "      <td>28-07-2024</td>\n",
       "      <td>Furniture</td>\n",
       "      <td>Codyberg</td>\n",
       "      <td>603591</td>\n",
       "      <td>3315.92</td>\n",
       "      <td>Land</td>\n",
       "      <td>Wilson Ltd</td>\n",
       "      <td>Zachary Whitaker</td>\n",
       "      <td>76199674</td>\n",
       "      <td>Cash on Delivery</td>\n",
       "    </tr>\n",
       "  </tbody>\n",
       "</table>\n",
       "</div>"
      ],
      "text/plain": [
       "                             Transaction_ID      Country    Product  \\\n",
       "14626  023fa0e1-14f7-4227-80a7-f32b9c9d4526      Germany        our   \n",
       "1913   f89ed0ff-2c8c-43fc-9759-b929ab9873c4    Mauritius     social   \n",
       "14399  d44ba724-0e10-4b8e-8771-1a7ea931f804  Afghanistan       case   \n",
       "489    de386aeb-ea96-4be6-a99c-f16b5a7583c0       Turkey  community   \n",
       "4993   7e08a22e-2ddc-4d77-9479-543214d71c50     Anguilla    morning   \n",
       "\n",
       "      Import_Export  Quantity    Value        Date   Category        Port  \\\n",
       "14626        Export      1088  8651.59  16-12-2022  Furniture   West Alex   \n",
       "1913         Import      1695  8720.44   4/10/2019  Furniture   West Neil   \n",
       "14399        Import       761  9169.49  31-08-2022  Machinery  North Luis   \n",
       "489          Export      5265  3894.47  21-12-2022  Machinery  Lake Stacy   \n",
       "4993         Import      8879  9133.40  28-07-2024  Furniture    Codyberg   \n",
       "\n",
       "       Customs_Code   Weight Shipping_Method  \\\n",
       "14626        271900  4449.82            Land   \n",
       "1913         605760  2724.73            Land   \n",
       "14399        270903  4784.35             Air   \n",
       "489          251444   804.72            Land   \n",
       "4993         603591  3315.92            Land   \n",
       "\n",
       "                                Supplier            Customer  Invoice_Number  \\\n",
       "14626                         Ball-Lopez       Monica Bryant          988577   \n",
       "1913               Joseph, Hess and Clay          Kelly Hill        39775241   \n",
       "14399                      Jones-Simmons     Marcus Thompson        58701957   \n",
       "489    Gutierrez, Sullivan and Middleton  Kelsey Christensen        85046533   \n",
       "4993                          Wilson Ltd    Zachary Whitaker        76199674   \n",
       "\n",
       "          Payment_Terms  \n",
       "14626            Net 30  \n",
       "1913             Net 30  \n",
       "14399           Prepaid  \n",
       "489              Net 60  \n",
       "4993   Cash on Delivery  "
      ]
     },
     "execution_count": 43,
     "metadata": {},
     "output_type": "execute_result"
    }
   ],
   "source": [
    "# First 05 Records of the Sample Data\n",
    "sample.head(5)"
   ]
  },
  {
   "cell_type": "code",
   "execution_count": 45,
   "id": "8715946c-e386-4490-a524-d396da4f96e1",
   "metadata": {},
   "outputs": [
    {
     "data": {
      "text/plain": [
       "Index(['Transaction_ID', 'Country', 'Product', 'Import_Export', 'Quantity',\n",
       "       'Value', 'Date', 'Category', 'Port', 'Customs_Code', 'Weight',\n",
       "       'Shipping_Method', 'Supplier', 'Customer', 'Invoice_Number',\n",
       "       'Payment_Terms'],\n",
       "      dtype='object')"
      ]
     },
     "execution_count": 45,
     "metadata": {},
     "output_type": "execute_result"
    }
   ],
   "source": [
    "# Names of Variables\n",
    "sample.columns"
   ]
  },
  {
   "cell_type": "markdown",
   "id": "31e68c96-fe0a-42b3-a409-cfa9e5788409",
   "metadata": {},
   "source": []
  },
  {
   "cell_type": "code",
   "execution_count": 48,
   "id": "9465c6ff-0c76-4ff1-a800-0ebb55b38a47",
   "metadata": {},
   "outputs": [
    {
     "data": {
      "text/html": [
       "<div>\n",
       "<style scoped>\n",
       "    .dataframe tbody tr th:only-of-type {\n",
       "        vertical-align: middle;\n",
       "    }\n",
       "\n",
       "    .dataframe tbody tr th {\n",
       "        vertical-align: top;\n",
       "    }\n",
       "\n",
       "    .dataframe thead th {\n",
       "        text-align: right;\n",
       "    }\n",
       "</style>\n",
       "<table border=\"1\" class=\"dataframe\">\n",
       "  <thead>\n",
       "    <tr style=\"text-align: right;\">\n",
       "      <th></th>\n",
       "      <th>Quantity</th>\n",
       "      <th>Value</th>\n",
       "      <th>Customs_Code</th>\n",
       "      <th>Weight</th>\n",
       "    </tr>\n",
       "  </thead>\n",
       "  <tbody>\n",
       "    <tr>\n",
       "      <th>14626</th>\n",
       "      <td>1088</td>\n",
       "      <td>8651.59</td>\n",
       "      <td>271900</td>\n",
       "      <td>4449.82</td>\n",
       "    </tr>\n",
       "    <tr>\n",
       "      <th>1913</th>\n",
       "      <td>1695</td>\n",
       "      <td>8720.44</td>\n",
       "      <td>605760</td>\n",
       "      <td>2724.73</td>\n",
       "    </tr>\n",
       "    <tr>\n",
       "      <th>14399</th>\n",
       "      <td>761</td>\n",
       "      <td>9169.49</td>\n",
       "      <td>270903</td>\n",
       "      <td>4784.35</td>\n",
       "    </tr>\n",
       "    <tr>\n",
       "      <th>489</th>\n",
       "      <td>5265</td>\n",
       "      <td>3894.47</td>\n",
       "      <td>251444</td>\n",
       "      <td>804.72</td>\n",
       "    </tr>\n",
       "    <tr>\n",
       "      <th>4993</th>\n",
       "      <td>8879</td>\n",
       "      <td>9133.40</td>\n",
       "      <td>603591</td>\n",
       "      <td>3315.92</td>\n",
       "    </tr>\n",
       "    <tr>\n",
       "      <th>...</th>\n",
       "      <td>...</td>\n",
       "      <td>...</td>\n",
       "      <td>...</td>\n",
       "      <td>...</td>\n",
       "    </tr>\n",
       "    <tr>\n",
       "      <th>2478</th>\n",
       "      <td>4938</td>\n",
       "      <td>7143.17</td>\n",
       "      <td>664188</td>\n",
       "      <td>4888.27</td>\n",
       "    </tr>\n",
       "    <tr>\n",
       "      <th>13327</th>\n",
       "      <td>9852</td>\n",
       "      <td>653.27</td>\n",
       "      <td>310284</td>\n",
       "      <td>500.94</td>\n",
       "    </tr>\n",
       "    <tr>\n",
       "      <th>6803</th>\n",
       "      <td>478</td>\n",
       "      <td>7501.14</td>\n",
       "      <td>896934</td>\n",
       "      <td>3454.28</td>\n",
       "    </tr>\n",
       "    <tr>\n",
       "      <th>1731</th>\n",
       "      <td>7497</td>\n",
       "      <td>1318.59</td>\n",
       "      <td>294129</td>\n",
       "      <td>3712.31</td>\n",
       "    </tr>\n",
       "    <tr>\n",
       "      <th>3809</th>\n",
       "      <td>3547</td>\n",
       "      <td>9847.68</td>\n",
       "      <td>497831</td>\n",
       "      <td>4603.71</td>\n",
       "    </tr>\n",
       "  </tbody>\n",
       "</table>\n",
       "<p>3001 rows × 4 columns</p>\n",
       "</div>"
      ],
      "text/plain": [
       "       Quantity    Value  Customs_Code   Weight\n",
       "14626      1088  8651.59        271900  4449.82\n",
       "1913       1695  8720.44        605760  2724.73\n",
       "14399       761  9169.49        270903  4784.35\n",
       "489        5265  3894.47        251444   804.72\n",
       "4993       8879  9133.40        603591  3315.92\n",
       "...         ...      ...           ...      ...\n",
       "2478       4938  7143.17        664188  4888.27\n",
       "13327      9852   653.27        310284   500.94\n",
       "6803        478  7501.14        896934  3454.28\n",
       "1731       7497  1318.59        294129  3712.31\n",
       "3809       3547  9847.68        497831  4603.71\n",
       "\n",
       "[3001 rows x 4 columns]"
      ]
     },
     "metadata": {},
     "output_type": "display_data"
    }
   ],
   "source": [
    "# Subseting the Non-Categorical Variables.\n",
    "non_categorical_columns = ['Quantity', 'Value', 'Customs_Code', 'Weight']\n",
    "non_categorical_df = sample[non_categorical_columns]\n",
    "display(non_categorical_df)"
   ]
  },
  {
   "cell_type": "code",
   "execution_count": 50,
   "id": "98293622-2512-410e-9887-b88f2bf6d257",
   "metadata": {},
   "outputs": [
    {
     "data": {
      "text/html": [
       "<div>\n",
       "<style scoped>\n",
       "    .dataframe tbody tr th:only-of-type {\n",
       "        vertical-align: middle;\n",
       "    }\n",
       "\n",
       "    .dataframe tbody tr th {\n",
       "        vertical-align: top;\n",
       "    }\n",
       "\n",
       "    .dataframe thead th {\n",
       "        text-align: right;\n",
       "    }\n",
       "</style>\n",
       "<table border=\"1\" class=\"dataframe\">\n",
       "  <thead>\n",
       "    <tr style=\"text-align: right;\">\n",
       "      <th></th>\n",
       "      <th>Quantity</th>\n",
       "      <th>Value</th>\n",
       "      <th>Customs_Code</th>\n",
       "      <th>Weight</th>\n",
       "    </tr>\n",
       "  </thead>\n",
       "  <tbody>\n",
       "    <tr>\n",
       "      <th>count</th>\n",
       "      <td>3001.00</td>\n",
       "      <td>3001.00</td>\n",
       "      <td>3001.00</td>\n",
       "      <td>3001.00</td>\n",
       "    </tr>\n",
       "    <tr>\n",
       "      <th>mean</th>\n",
       "      <td>4958.92</td>\n",
       "      <td>5087.16</td>\n",
       "      <td>547738.29</td>\n",
       "      <td>2460.84</td>\n",
       "    </tr>\n",
       "    <tr>\n",
       "      <th>std</th>\n",
       "      <td>2868.06</td>\n",
       "      <td>2865.96</td>\n",
       "      <td>263176.55</td>\n",
       "      <td>1443.60</td>\n",
       "    </tr>\n",
       "    <tr>\n",
       "      <th>min</th>\n",
       "      <td>6.00</td>\n",
       "      <td>102.87</td>\n",
       "      <td>100414.00</td>\n",
       "      <td>1.64</td>\n",
       "    </tr>\n",
       "    <tr>\n",
       "      <th>25%</th>\n",
       "      <td>2397.00</td>\n",
       "      <td>2579.37</td>\n",
       "      <td>322439.00</td>\n",
       "      <td>1242.08</td>\n",
       "    </tr>\n",
       "    <tr>\n",
       "      <th>50%</th>\n",
       "      <td>4925.00</td>\n",
       "      <td>5128.27</td>\n",
       "      <td>543185.00</td>\n",
       "      <td>2401.40</td>\n",
       "    </tr>\n",
       "    <tr>\n",
       "      <th>75%</th>\n",
       "      <td>7481.00</td>\n",
       "      <td>7532.15</td>\n",
       "      <td>779809.00</td>\n",
       "      <td>3701.16</td>\n",
       "    </tr>\n",
       "    <tr>\n",
       "      <th>max</th>\n",
       "      <td>9993.00</td>\n",
       "      <td>9999.13</td>\n",
       "      <td>999964.00</td>\n",
       "      <td>4992.70</td>\n",
       "    </tr>\n",
       "  </tbody>\n",
       "</table>\n",
       "</div>"
      ],
      "text/plain": [
       "       Quantity    Value  Customs_Code   Weight\n",
       "count   3001.00  3001.00       3001.00  3001.00\n",
       "mean    4958.92  5087.16     547738.29  2460.84\n",
       "std     2868.06  2865.96     263176.55  1443.60\n",
       "min        6.00   102.87     100414.00     1.64\n",
       "25%     2397.00  2579.37     322439.00  1242.08\n",
       "50%     4925.00  5128.27     543185.00  2401.40\n",
       "75%     7481.00  7532.15     779809.00  3701.16\n",
       "max     9993.00  9999.13     999964.00  4992.70"
      ]
     },
     "metadata": {},
     "output_type": "display_data"
    }
   ],
   "source": [
    "# Descriptive Statistics of the Non-Categorical Set.\n",
    "non_categorical_stats = non_categorical_df.describe()\n",
    "non_categorical_stats= np.round(non_categorical_stats,2)\n",
    "# Display the statistics\n",
    "display(non_categorical_stats)"
   ]
  },
  {
   "cell_type": "code",
   "execution_count": 52,
   "id": "7d4d09a3-d2b5-4c36-b7b0-c4b99251eb08",
   "metadata": {},
   "outputs": [
    {
     "data": {
      "text/html": [
       "<div>\n",
       "<style scoped>\n",
       "    .dataframe tbody tr th:only-of-type {\n",
       "        vertical-align: middle;\n",
       "    }\n",
       "\n",
       "    .dataframe tbody tr th {\n",
       "        vertical-align: top;\n",
       "    }\n",
       "\n",
       "    .dataframe thead th {\n",
       "        text-align: right;\n",
       "    }\n",
       "</style>\n",
       "<table border=\"1\" class=\"dataframe\">\n",
       "  <thead>\n",
       "    <tr style=\"text-align: right;\">\n",
       "      <th></th>\n",
       "      <th>Country</th>\n",
       "      <th>Product</th>\n",
       "      <th>Import_Export</th>\n",
       "      <th>Category</th>\n",
       "      <th>Port</th>\n",
       "      <th>Shipping_Method</th>\n",
       "      <th>Supplier</th>\n",
       "      <th>Customer</th>\n",
       "      <th>Payment_Terms</th>\n",
       "    </tr>\n",
       "  </thead>\n",
       "  <tbody>\n",
       "    <tr>\n",
       "      <th>14626</th>\n",
       "      <td>Germany</td>\n",
       "      <td>our</td>\n",
       "      <td>Export</td>\n",
       "      <td>Furniture</td>\n",
       "      <td>West Alex</td>\n",
       "      <td>Land</td>\n",
       "      <td>Ball-Lopez</td>\n",
       "      <td>Monica Bryant</td>\n",
       "      <td>Net 30</td>\n",
       "    </tr>\n",
       "    <tr>\n",
       "      <th>1913</th>\n",
       "      <td>Mauritius</td>\n",
       "      <td>social</td>\n",
       "      <td>Import</td>\n",
       "      <td>Furniture</td>\n",
       "      <td>West Neil</td>\n",
       "      <td>Land</td>\n",
       "      <td>Joseph, Hess and Clay</td>\n",
       "      <td>Kelly Hill</td>\n",
       "      <td>Net 30</td>\n",
       "    </tr>\n",
       "    <tr>\n",
       "      <th>14399</th>\n",
       "      <td>Afghanistan</td>\n",
       "      <td>case</td>\n",
       "      <td>Import</td>\n",
       "      <td>Machinery</td>\n",
       "      <td>North Luis</td>\n",
       "      <td>Air</td>\n",
       "      <td>Jones-Simmons</td>\n",
       "      <td>Marcus Thompson</td>\n",
       "      <td>Prepaid</td>\n",
       "    </tr>\n",
       "    <tr>\n",
       "      <th>489</th>\n",
       "      <td>Turkey</td>\n",
       "      <td>community</td>\n",
       "      <td>Export</td>\n",
       "      <td>Machinery</td>\n",
       "      <td>Lake Stacy</td>\n",
       "      <td>Land</td>\n",
       "      <td>Gutierrez, Sullivan and Middleton</td>\n",
       "      <td>Kelsey Christensen</td>\n",
       "      <td>Net 60</td>\n",
       "    </tr>\n",
       "    <tr>\n",
       "      <th>4993</th>\n",
       "      <td>Anguilla</td>\n",
       "      <td>morning</td>\n",
       "      <td>Import</td>\n",
       "      <td>Furniture</td>\n",
       "      <td>Codyberg</td>\n",
       "      <td>Land</td>\n",
       "      <td>Wilson Ltd</td>\n",
       "      <td>Zachary Whitaker</td>\n",
       "      <td>Cash on Delivery</td>\n",
       "    </tr>\n",
       "    <tr>\n",
       "      <th>...</th>\n",
       "      <td>...</td>\n",
       "      <td>...</td>\n",
       "      <td>...</td>\n",
       "      <td>...</td>\n",
       "      <td>...</td>\n",
       "      <td>...</td>\n",
       "      <td>...</td>\n",
       "      <td>...</td>\n",
       "      <td>...</td>\n",
       "    </tr>\n",
       "    <tr>\n",
       "      <th>2478</th>\n",
       "      <td>Saint Helena</td>\n",
       "      <td>dream</td>\n",
       "      <td>Import</td>\n",
       "      <td>Clothing</td>\n",
       "      <td>Josephton</td>\n",
       "      <td>Sea</td>\n",
       "      <td>Edwards-May</td>\n",
       "      <td>John Watts</td>\n",
       "      <td>Net 60</td>\n",
       "    </tr>\n",
       "    <tr>\n",
       "      <th>13327</th>\n",
       "      <td>Tuvalu</td>\n",
       "      <td>ability</td>\n",
       "      <td>Export</td>\n",
       "      <td>Clothing</td>\n",
       "      <td>North Bethanyfort</td>\n",
       "      <td>Sea</td>\n",
       "      <td>Mills, Coleman and Reynolds</td>\n",
       "      <td>Brian Carroll</td>\n",
       "      <td>Cash on Delivery</td>\n",
       "    </tr>\n",
       "    <tr>\n",
       "      <th>6803</th>\n",
       "      <td>Syrian Arab Republic</td>\n",
       "      <td>organization</td>\n",
       "      <td>Export</td>\n",
       "      <td>Furniture</td>\n",
       "      <td>East Rodney</td>\n",
       "      <td>Sea</td>\n",
       "      <td>Tyler, Watson and Brown</td>\n",
       "      <td>Lisa Wilson</td>\n",
       "      <td>Net 30</td>\n",
       "    </tr>\n",
       "    <tr>\n",
       "      <th>1731</th>\n",
       "      <td>Turkey</td>\n",
       "      <td>safe</td>\n",
       "      <td>Import</td>\n",
       "      <td>Furniture</td>\n",
       "      <td>South Annahaven</td>\n",
       "      <td>Air</td>\n",
       "      <td>James, Greene and Harris</td>\n",
       "      <td>Jennifer Palmer</td>\n",
       "      <td>Prepaid</td>\n",
       "    </tr>\n",
       "    <tr>\n",
       "      <th>3809</th>\n",
       "      <td>Pakistan</td>\n",
       "      <td>general</td>\n",
       "      <td>Import</td>\n",
       "      <td>Toys</td>\n",
       "      <td>Lake Nathaniel</td>\n",
       "      <td>Land</td>\n",
       "      <td>Kim-Ward</td>\n",
       "      <td>Kristen Myers</td>\n",
       "      <td>Net 60</td>\n",
       "    </tr>\n",
       "  </tbody>\n",
       "</table>\n",
       "<p>3001 rows × 9 columns</p>\n",
       "</div>"
      ],
      "text/plain": [
       "                    Country       Product Import_Export   Category  \\\n",
       "14626               Germany           our        Export  Furniture   \n",
       "1913              Mauritius        social        Import  Furniture   \n",
       "14399           Afghanistan          case        Import  Machinery   \n",
       "489                  Turkey     community        Export  Machinery   \n",
       "4993               Anguilla       morning        Import  Furniture   \n",
       "...                     ...           ...           ...        ...   \n",
       "2478           Saint Helena         dream        Import   Clothing   \n",
       "13327                Tuvalu       ability        Export   Clothing   \n",
       "6803   Syrian Arab Republic  organization        Export  Furniture   \n",
       "1731                 Turkey          safe        Import  Furniture   \n",
       "3809               Pakistan       general        Import       Toys   \n",
       "\n",
       "                    Port Shipping_Method                           Supplier  \\\n",
       "14626          West Alex            Land                         Ball-Lopez   \n",
       "1913           West Neil            Land              Joseph, Hess and Clay   \n",
       "14399         North Luis             Air                      Jones-Simmons   \n",
       "489           Lake Stacy            Land  Gutierrez, Sullivan and Middleton   \n",
       "4993            Codyberg            Land                         Wilson Ltd   \n",
       "...                  ...             ...                                ...   \n",
       "2478           Josephton             Sea                        Edwards-May   \n",
       "13327  North Bethanyfort             Sea        Mills, Coleman and Reynolds   \n",
       "6803         East Rodney             Sea            Tyler, Watson and Brown   \n",
       "1731     South Annahaven             Air           James, Greene and Harris   \n",
       "3809      Lake Nathaniel            Land                           Kim-Ward   \n",
       "\n",
       "                 Customer     Payment_Terms  \n",
       "14626       Monica Bryant            Net 30  \n",
       "1913           Kelly Hill            Net 30  \n",
       "14399     Marcus Thompson           Prepaid  \n",
       "489    Kelsey Christensen            Net 60  \n",
       "4993     Zachary Whitaker  Cash on Delivery  \n",
       "...                   ...               ...  \n",
       "2478           John Watts            Net 60  \n",
       "13327       Brian Carroll  Cash on Delivery  \n",
       "6803          Lisa Wilson            Net 30  \n",
       "1731      Jennifer Palmer           Prepaid  \n",
       "3809        Kristen Myers            Net 60  \n",
       "\n",
       "[3001 rows x 9 columns]"
      ]
     },
     "execution_count": 52,
     "metadata": {},
     "output_type": "execute_result"
    }
   ],
   "source": [
    "#Subseting the Categorical Variables.\n",
    "categorical_variables = [\"Country\", \"Product\", \"Import_Export\", \"Category\", \"Port\", \"Shipping_Method\", \"Supplier\", \"Customer\", \"Payment_Terms\"\n",
    "\n",
    "]\n",
    "categ = sample[categorical_variables]\n",
    "categ"
   ]
  },
  {
   "cell_type": "code",
   "execution_count": 54,
   "id": "96dc5afb-3dfe-41b4-a7e1-6e47273bc6d8",
   "metadata": {},
   "outputs": [
    {
     "data": {
      "text/html": [
       "<div>\n",
       "<style scoped>\n",
       "    .dataframe tbody tr th:only-of-type {\n",
       "        vertical-align: middle;\n",
       "    }\n",
       "\n",
       "    .dataframe tbody tr th {\n",
       "        vertical-align: top;\n",
       "    }\n",
       "\n",
       "    .dataframe thead th {\n",
       "        text-align: right;\n",
       "    }\n",
       "</style>\n",
       "<table border=\"1\" class=\"dataframe\">\n",
       "  <thead>\n",
       "    <tr style=\"text-align: right;\">\n",
       "      <th></th>\n",
       "      <th>count</th>\n",
       "    </tr>\n",
       "    <tr>\n",
       "      <th>Category</th>\n",
       "      <th></th>\n",
       "    </tr>\n",
       "  </thead>\n",
       "  <tbody>\n",
       "    <tr>\n",
       "      <th>Clothing</th>\n",
       "      <td>622</td>\n",
       "    </tr>\n",
       "    <tr>\n",
       "      <th>Electronics</th>\n",
       "      <td>617</td>\n",
       "    </tr>\n",
       "    <tr>\n",
       "      <th>Machinery</th>\n",
       "      <td>594</td>\n",
       "    </tr>\n",
       "    <tr>\n",
       "      <th>Furniture</th>\n",
       "      <td>593</td>\n",
       "    </tr>\n",
       "    <tr>\n",
       "      <th>Toys</th>\n",
       "      <td>575</td>\n",
       "    </tr>\n",
       "  </tbody>\n",
       "</table>\n",
       "</div>"
      ],
      "text/plain": [
       "             count\n",
       "Category          \n",
       "Clothing       622\n",
       "Electronics    617\n",
       "Machinery      594\n",
       "Furniture      593\n",
       "Toys           575"
      ]
     },
     "metadata": {},
     "output_type": "display_data"
    }
   ],
   "source": [
    "#Descriptive Statistics of Any 01 Categorical Variable.\n",
    "display(pd.DataFrame(sample[\"Category\"].value_counts()))"
   ]
  },
  {
   "cell_type": "markdown",
   "id": "de999e0e-a7e6-423f-b49d-f00c625747b4",
   "metadata": {},
   "source": [
    "## **1.Descriptive Statistics**"
   ]
  },
  {
   "cell_type": "markdown",
   "id": "eee787aa-11e6-4546-85dd-d41413cc6e55",
   "metadata": {},
   "source": [
    "### **Measures of Central Tendency**"
   ]
  },
  {
   "cell_type": "code",
   "execution_count": 58,
   "id": "1ffadd3d-aa79-4de1-8324-9ba2261d688d",
   "metadata": {},
   "outputs": [
    {
     "name": "stdout",
     "output_type": "stream",
     "text": [
      "\n",
      " Mean :\n"
     ]
    },
    {
     "data": {
      "text/html": [
       "<div>\n",
       "<style scoped>\n",
       "    .dataframe tbody tr th:only-of-type {\n",
       "        vertical-align: middle;\n",
       "    }\n",
       "\n",
       "    .dataframe tbody tr th {\n",
       "        vertical-align: top;\n",
       "    }\n",
       "\n",
       "    .dataframe thead th {\n",
       "        text-align: right;\n",
       "    }\n",
       "</style>\n",
       "<table border=\"1\" class=\"dataframe\">\n",
       "  <thead>\n",
       "    <tr style=\"text-align: right;\">\n",
       "      <th></th>\n",
       "      <th>Mean</th>\n",
       "    </tr>\n",
       "  </thead>\n",
       "  <tbody>\n",
       "    <tr>\n",
       "      <th>Quantity</th>\n",
       "      <td>4958.92</td>\n",
       "    </tr>\n",
       "    <tr>\n",
       "      <th>Value</th>\n",
       "      <td>5087.16</td>\n",
       "    </tr>\n",
       "    <tr>\n",
       "      <th>Weight</th>\n",
       "      <td>2460.84</td>\n",
       "    </tr>\n",
       "  </tbody>\n",
       "</table>\n",
       "</div>"
      ],
      "text/plain": [
       "             Mean\n",
       "Quantity  4958.92\n",
       "Value     5087.16\n",
       "Weight    2460.84"
      ]
     },
     "metadata": {},
     "output_type": "display_data"
    },
    {
     "name": "stdout",
     "output_type": "stream",
     "text": [
      "\n",
      " Median :\n"
     ]
    },
    {
     "data": {
      "text/html": [
       "<div>\n",
       "<style scoped>\n",
       "    .dataframe tbody tr th:only-of-type {\n",
       "        vertical-align: middle;\n",
       "    }\n",
       "\n",
       "    .dataframe tbody tr th {\n",
       "        vertical-align: top;\n",
       "    }\n",
       "\n",
       "    .dataframe thead th {\n",
       "        text-align: right;\n",
       "    }\n",
       "</style>\n",
       "<table border=\"1\" class=\"dataframe\">\n",
       "  <thead>\n",
       "    <tr style=\"text-align: right;\">\n",
       "      <th></th>\n",
       "      <th>Median</th>\n",
       "    </tr>\n",
       "  </thead>\n",
       "  <tbody>\n",
       "    <tr>\n",
       "      <th>Quantity</th>\n",
       "      <td>4925.00</td>\n",
       "    </tr>\n",
       "    <tr>\n",
       "      <th>Value</th>\n",
       "      <td>5128.27</td>\n",
       "    </tr>\n",
       "    <tr>\n",
       "      <th>Weight</th>\n",
       "      <td>2401.40</td>\n",
       "    </tr>\n",
       "  </tbody>\n",
       "</table>\n",
       "</div>"
      ],
      "text/plain": [
       "           Median\n",
       "Quantity  4925.00\n",
       "Value     5128.27\n",
       "Weight    2401.40"
      ]
     },
     "metadata": {},
     "output_type": "display_data"
    },
    {
     "name": "stdout",
     "output_type": "stream",
     "text": [
      "\n",
      " Mode of Weights : \n"
     ]
    },
    {
     "data": {
      "text/html": [
       "<div>\n",
       "<style scoped>\n",
       "    .dataframe tbody tr th:only-of-type {\n",
       "        vertical-align: middle;\n",
       "    }\n",
       "\n",
       "    .dataframe tbody tr th {\n",
       "        vertical-align: top;\n",
       "    }\n",
       "\n",
       "    .dataframe thead th {\n",
       "        text-align: right;\n",
       "    }\n",
       "</style>\n",
       "<table border=\"1\" class=\"dataframe\">\n",
       "  <thead>\n",
       "    <tr style=\"text-align: right;\">\n",
       "      <th></th>\n",
       "      <th>Mode of Weights</th>\n",
       "    </tr>\n",
       "  </thead>\n",
       "  <tbody>\n",
       "    <tr>\n",
       "      <th>0</th>\n",
       "      <td>831.03</td>\n",
       "    </tr>\n",
       "    <tr>\n",
       "      <th>1</th>\n",
       "      <td>1090.43</td>\n",
       "    </tr>\n",
       "    <tr>\n",
       "      <th>2</th>\n",
       "      <td>1292.49</td>\n",
       "    </tr>\n",
       "    <tr>\n",
       "      <th>3</th>\n",
       "      <td>1583.78</td>\n",
       "    </tr>\n",
       "    <tr>\n",
       "      <th>4</th>\n",
       "      <td>1968.82</td>\n",
       "    </tr>\n",
       "    <tr>\n",
       "      <th>5</th>\n",
       "      <td>2196.51</td>\n",
       "    </tr>\n",
       "    <tr>\n",
       "      <th>6</th>\n",
       "      <td>4127.07</td>\n",
       "    </tr>\n",
       "    <tr>\n",
       "      <th>7</th>\n",
       "      <td>4661.63</td>\n",
       "    </tr>\n",
       "    <tr>\n",
       "      <th>8</th>\n",
       "      <td>4862.98</td>\n",
       "    </tr>\n",
       "  </tbody>\n",
       "</table>\n",
       "</div>"
      ],
      "text/plain": [
       "   Mode of Weights\n",
       "0           831.03\n",
       "1          1090.43\n",
       "2          1292.49\n",
       "3          1583.78\n",
       "4          1968.82\n",
       "5          2196.51\n",
       "6          4127.07\n",
       "7          4661.63\n",
       "8          4862.98"
      ]
     },
     "metadata": {},
     "output_type": "display_data"
    }
   ],
   "source": [
    "# Mean, Median, Mode\n",
    "non_categorical_df_1 = non_categorical_df = sample[[\"Quantity\", \"Value\", \"Weight\"]] \n",
    "mean_values = pd.DataFrame(non_categorical_df_1.mean())\n",
    "mean_values.columns = ['Mean']\n",
    "median_values = pd.DataFrame(non_categorical_df_1.median())\n",
    "median_values.columns = ['Median']\n",
    "mode_values = sample[[\"Weight\"]].mode()\n",
    "mode_values.columns = ['Mode of Weights']\n",
    "print(\"\\n Mean :\")\n",
    "display(np.round(mean_values,2))\n",
    "print(\"\\n Median :\")\n",
    "display(median_values)\n",
    "print(\"\\n Mode of Weights : \")\n",
    "display(mode_values)"
   ]
  },
  {
   "cell_type": "markdown",
   "id": "0d80ec5e-c571-4799-8340-d1145e9dee1e",
   "metadata": {},
   "source": [
    "# Mean Interpretation:\n",
    "Quantity (Mean: 4958.92): On average, the dataset shows that the quantity of goods involved in the transactions is approximately 4958.92 units.\n",
    "\n",
    "Value (Mean: 5087.16): The mean value of the goods in each transaction is around 5087.16, which suggests a general average transaction value across the dataset.\n",
    "\n",
    "Weight (Mean: 2460.84): The average weight of the goods in each transaction is approximately 2460.84 units, indicating the typical weight being handled per transaction.\n",
    "\n",
    "\n",
    "# Median Interpretation:\n",
    "Quantity (Median: 4925.00): The median quantity is 4925.00 units, meaning that half of the transactions have a quantity below 4925.00 and the other half have a quantity above it. This indicates that most transactions revolve around this quantity.\n",
    "\n",
    "Value (Median: 5128.27): The median value is 5128.27, indicating that half of the transactions are valued below this amount, and half are above. Since the median and mean are quite close, the data may not have extreme outliers.\n",
    "\n",
    "Weight (Median: 2401.40): The median weight is 2401.40, meaning the central value of the dataset is around this number. Similar to the other variables, the mean and median are close, which suggests a fairly even distribution of data without major outliers.\n",
    "\n",
    "\n",
    "# Mode Interpretation:\n",
    "Weights :  Since there are multiple modes for the weight, this suggests that the data is multimodal, meaning there are several common weights that appear repeatedly. These weights likely correspond to specific categories or shipment types that occur frequently.\n",
    "\n",
    "In summary, the mean and median for Quantity, Value, and Weight are relatively close, suggesting that the dataset is fairly balanced without significant outliers. However, the multiple modes in Weight indicate that some weights are more common than others, potentially reflecting different types of shipments or goods being traded at various weight levels."
   ]
  },
  {
   "cell_type": "markdown",
   "id": "9ac93c83",
   "metadata": {},
   "source": [
    "## Maximum and Minimum Table"
   ]
  },
  {
   "cell_type": "code",
   "execution_count": 65,
   "id": "816c1f8b",
   "metadata": {},
   "outputs": [
    {
     "name": "stdout",
     "output_type": "stream",
     "text": [
      "\n",
      "Minimum Table:\n"
     ]
    },
    {
     "data": {
      "text/html": [
       "<div>\n",
       "<style scoped>\n",
       "    .dataframe tbody tr th:only-of-type {\n",
       "        vertical-align: middle;\n",
       "    }\n",
       "\n",
       "    .dataframe tbody tr th {\n",
       "        vertical-align: top;\n",
       "    }\n",
       "\n",
       "    .dataframe thead th {\n",
       "        text-align: right;\n",
       "    }\n",
       "</style>\n",
       "<table border=\"1\" class=\"dataframe\">\n",
       "  <thead>\n",
       "    <tr style=\"text-align: right;\">\n",
       "      <th></th>\n",
       "      <th>Minimum</th>\n",
       "    </tr>\n",
       "  </thead>\n",
       "  <tbody>\n",
       "    <tr>\n",
       "      <th>Country</th>\n",
       "      <td>Afghanistan</td>\n",
       "    </tr>\n",
       "    <tr>\n",
       "      <th>Product</th>\n",
       "      <td>Congress</td>\n",
       "    </tr>\n",
       "    <tr>\n",
       "      <th>Import_Export</th>\n",
       "      <td>Export</td>\n",
       "    </tr>\n",
       "    <tr>\n",
       "      <th>Category</th>\n",
       "      <td>Clothing</td>\n",
       "    </tr>\n",
       "    <tr>\n",
       "      <th>Port</th>\n",
       "      <td>Aaronmouth</td>\n",
       "    </tr>\n",
       "    <tr>\n",
       "      <th>Shipping_Method</th>\n",
       "      <td>Air</td>\n",
       "    </tr>\n",
       "    <tr>\n",
       "      <th>Supplier</th>\n",
       "      <td>Abbott and Sons</td>\n",
       "    </tr>\n",
       "    <tr>\n",
       "      <th>Customer</th>\n",
       "      <td>Aaron Ayers</td>\n",
       "    </tr>\n",
       "    <tr>\n",
       "      <th>Payment_Terms</th>\n",
       "      <td>Cash on Delivery</td>\n",
       "    </tr>\n",
       "  </tbody>\n",
       "</table>\n",
       "</div>"
      ],
      "text/plain": [
       "                          Minimum\n",
       "Country               Afghanistan\n",
       "Product                  Congress\n",
       "Import_Export              Export\n",
       "Category                 Clothing\n",
       "Port                   Aaronmouth\n",
       "Shipping_Method               Air\n",
       "Supplier          Abbott and Sons\n",
       "Customer              Aaron Ayers\n",
       "Payment_Terms    Cash on Delivery"
      ]
     },
     "metadata": {},
     "output_type": "display_data"
    },
    {
     "name": "stdout",
     "output_type": "stream",
     "text": [
      "\n",
      "Maximum Table:\n"
     ]
    },
    {
     "data": {
      "text/html": [
       "<div>\n",
       "<style scoped>\n",
       "    .dataframe tbody tr th:only-of-type {\n",
       "        vertical-align: middle;\n",
       "    }\n",
       "\n",
       "    .dataframe tbody tr th {\n",
       "        vertical-align: top;\n",
       "    }\n",
       "\n",
       "    .dataframe thead th {\n",
       "        text-align: right;\n",
       "    }\n",
       "</style>\n",
       "<table border=\"1\" class=\"dataframe\">\n",
       "  <thead>\n",
       "    <tr style=\"text-align: right;\">\n",
       "      <th></th>\n",
       "      <th>Maximum</th>\n",
       "    </tr>\n",
       "  </thead>\n",
       "  <tbody>\n",
       "    <tr>\n",
       "      <th>Country</th>\n",
       "      <td>Zimbabwe</td>\n",
       "    </tr>\n",
       "    <tr>\n",
       "      <th>Product</th>\n",
       "      <td>yourself</td>\n",
       "    </tr>\n",
       "    <tr>\n",
       "      <th>Import_Export</th>\n",
       "      <td>Import</td>\n",
       "    </tr>\n",
       "    <tr>\n",
       "      <th>Category</th>\n",
       "      <td>Toys</td>\n",
       "    </tr>\n",
       "    <tr>\n",
       "      <th>Port</th>\n",
       "      <td>Youngville</td>\n",
       "    </tr>\n",
       "    <tr>\n",
       "      <th>Shipping_Method</th>\n",
       "      <td>Sea</td>\n",
       "    </tr>\n",
       "    <tr>\n",
       "      <th>Supplier</th>\n",
       "      <td>Zuniga-Brown</td>\n",
       "    </tr>\n",
       "    <tr>\n",
       "      <th>Customer</th>\n",
       "      <td>Zachary Wise</td>\n",
       "    </tr>\n",
       "    <tr>\n",
       "      <th>Payment_Terms</th>\n",
       "      <td>Prepaid</td>\n",
       "    </tr>\n",
       "  </tbody>\n",
       "</table>\n",
       "</div>"
      ],
      "text/plain": [
       "                      Maximum\n",
       "Country              Zimbabwe\n",
       "Product              yourself\n",
       "Import_Export          Import\n",
       "Category                 Toys\n",
       "Port               Youngville\n",
       "Shipping_Method           Sea\n",
       "Supplier         Zuniga-Brown\n",
       "Customer         Zachary Wise\n",
       "Payment_Terms         Prepaid"
      ]
     },
     "metadata": {},
     "output_type": "display_data"
    }
   ],
   "source": [
    "#Minimum Table\n",
    "min_table = pd.DataFrame(index=categorical_variables, columns=['Minimum'])\n",
    "for col in categorical_variables:\n",
    "    min_table.loc[col] = sample[col].min()\n",
    "print(\"\\nMinimum Table:\")\n",
    "display(min_table)\n",
    "\n",
    "#Maximum Table\n",
    "max_table = pd.DataFrame(index=categorical_variables, columns=['Maximum'])\n",
    "for col in categorical_variables:\n",
    "    max_table.loc[col] = sample[col].max()\n",
    "print(\"\\nMaximum Table:\")\n",
    "display(max_table)"
   ]
  },
  {
   "cell_type": "markdown",
   "id": "efd56561",
   "metadata": {},
   "source": [
    "\n",
    "\n",
    "**Insights:**\n",
    "\n",
    "*   **Geographic Range:** The data spans from Afghanistan to Zimbabwe, indicating a wide range of geographical coverage.\n",
    "    \n",
    "*   **Product Variety:** The products range from American goods to toys, suggesting diversity in the traded items.\n",
    "    \n",
    "*   **Trade Balance:** The minimum and maximum values show both import and export transactions, suggesting a balanced trade flow.\n",
    "    \n",
    "*   **Shipping Methods:** Both air and sea shipping are used, indicating flexibility in transportation options.\n",
    "    \n",
    "*   **Payment Terms:** Both cash on delivery and prepaid payment terms are utilized, reflecting different business practices.\n",
    "    \n",
    "\n",
    "**Potential Areas for Further Analysis:**\n",
    "\n",
    "*   **Frequency of Transactions:** Analyzing the frequency of transactions for different countries, products, categories, or other factors can provide insights into trade patterns.\n",
    "    \n",
    "*   **Trade Volumes:** Examining the volume of goods traded between different countries and regions can help identify key trade routes and partnerships.\n",
    "    \n",
    "*   **Economic Indicators:** Correlating the trade data with economic indicators such as GDP, inflation, and exchange rates can provide a broader understanding of the factors influencing trade.\n",
    "    \n",
    "*   **Trade Barriers:** Identifying any trade barriers or restrictions that may be affecting the volume or composition of trade."
   ]
  },
  {
   "cell_type": "markdown",
   "id": "7ce192f0-3996-4693-85c4-b8d9d5894dd5",
   "metadata": {},
   "source": [
    "## **Measures of Dispersion**"
   ]
  },
  {
   "cell_type": "code",
   "execution_count": 70,
   "id": "d6ca541e-0f43-4b5e-9d4c-1fd974383c9f",
   "metadata": {},
   "outputs": [
    {
     "name": "stdout",
     "output_type": "stream",
     "text": [
      "Range:\n",
      " Quantity    9987.00\n",
      "Value       9896.26\n",
      "Weight      4991.06\n",
      "dtype: float64\n",
      "Standard Deviation:\n",
      " Quantity    2868.062933\n",
      "Value       2865.955064\n",
      "Weight      1443.601349\n",
      "dtype: float64\n",
      "Variance:\n",
      " Quantity    8.225785e+06\n",
      "Value       8.213698e+06\n",
      "Weight      2.083985e+06\n",
      "dtype: float64\n"
     ]
    }
   ],
   "source": [
    "# Range, Standard Deviation, Variance\n",
    "range_values = non_categorical_df.max() - non_categorical_df.min()\n",
    "std_dev_values = non_categorical_df.std()\n",
    "variance_values = non_categorical_df.var()\n",
    "\n",
    "print(\"Range:\\n\", range_values)\n",
    "print(\"Standard Deviation:\\n\", std_dev_values)\n",
    "print(\"Variance:\\n\", variance_values)"
   ]
  },
  {
   "cell_type": "markdown",
   "id": "62723cf1-0098-4bcb-b351-e86df63d29b5",
   "metadata": {},
   "source": [
    "### Range Interpretation:\n",
    "Quantity (Range: 9987.00): The difference between the maximum and minimum quantities in the dataset is 9986 units, indicating a wide variation in the number of goods involved in each transaction.\n",
    "\n",
    "Value (Range: 9896.26): The range of values across transactions is 9887.21, which suggests significant variability in the monetary value of transactions.\n",
    "\n",
    "Weight (Range: 4991.06): The weight of goods ranges over 4996.49 units, showing that shipments can vary greatly in terms of how heavy they are.\n",
    "The range provides a quick overview of the spread in the data, but it doesn’t account for how the data is distributed between the extremes.\n",
    "\n",
    "### Standard Deviation Interpretation:\n",
    "Quantity (Standard Deviation: 2868.062933): The quantity of goods varies by about  2868.062933 units from the mean. A large standard deviation relative to the mean indicates that there is considerable variation in the quantity of goods across transactions.\n",
    "\n",
    "Value (Standard Deviation: 2865.955064): The standard deviation for transaction values is 2865.955064, meaning that the value of goods in each transaction tends to deviate from the mean by this amount. Again, this indicates significant variability in transaction values.\n",
    "\n",
    "Weight (Standard Deviation: 1443.601349): The weights of shipments tend to vary by about 1443.601349 units from the mean. This suggests moderate variability in shipment weights, though less than the variability seen in quantity and value.\n",
    "\n",
    "### Variance Interpretation:\n",
    "Quantity (Variance: 8.225785e+06): The variance for quantity is 8.22 million, which is the square of the standard deviation. This large number reflects the wide range and significant variation in quantities across transactions.\n",
    "\n",
    "Value (Variance:  8.213698e+06): The variance in the value of transactions is about 8.21 million. This again shows substantial variability in transaction values, aligned with the wide range observed.\n",
    "\n",
    "Weight (Variance: 2.083985e+06): The variance for weight is 2.08 million. This lower variance compared to quantity and value indicates that the weights are less spread out across transactions than the other two variables."
   ]
  },
  {
   "cell_type": "markdown",
   "id": "9723277d-da4e-4998-9e25-55714d00671e",
   "metadata": {},
   "source": [
    " #### **Skewness and Kurtosis**"
   ]
  },
  {
   "cell_type": "code",
   "execution_count": 74,
   "id": "84923a91-dbb5-4536-8760-445921b42d19",
   "metadata": {},
   "outputs": [
    {
     "name": "stdout",
     "output_type": "stream",
     "text": [
      "Skewness:\n",
      " Quantity    0.027175\n",
      "Value      -0.004030\n",
      "Weight      0.054187\n",
      "dtype: float64\n",
      "Kurtosis:\n",
      " Quantity   -1.211907\n",
      "Value      -1.201573\n",
      "Weight     -1.191257\n",
      "dtype: float64\n"
     ]
    }
   ],
   "source": [
    "# Skewness and Kurtosis\n",
    "skewness = non_categorical_df.skew()\n",
    "kurtosis = non_categorical_df.kurt()\n",
    "\n",
    "print(\"Skewness:\\n\", skewness)\n",
    "print(\"Kurtosis:\\n\", kurtosis)"
   ]
  },
  {
   "cell_type": "markdown",
   "id": "963800bd-5e5f-4f18-b971-8950d4587968",
   "metadata": {},
   "source": [
    "# Skewness Interpretation:\n",
    "All three values are very close to zero, indicating that the distributions of Quantity, Value, and Weight are approximately symmetrical.\n",
    "\n",
    "Value has very slight negative skewness, suggesting a very minor tendency for data to fall more frequently on the right side of the distribution.\n",
    "# Kurtosis Interpretation:\n",
    "Weight has a very slight negative skewness (not positive), indicating a minor tendency for data to fall more frequently on the right side of the distribution, rather than the left.\n",
    "\n",
    "All three values of kurtosis are negative, indicating that the distributions of Quantity, Value, and Weight have lighter tails and flatter peaks compared to a normal distribution. In other words, these distributions are more platykurtic.\n",
    "\n",
    "The negative kurtosis suggests that extreme values are less frequent, and the overall shape of the distribution is more flat-topped compared to a normal distribution."
   ]
  },
  {
   "cell_type": "markdown",
   "id": "eac68d14-8bd4-4eb6-9f12-02f41384d179",
   "metadata": {},
   "source": [
    "**Correlation between Non-Categorical Variables**"
   ]
  },
  {
   "cell_type": "code",
   "execution_count": 78,
   "id": "4d416be9-bfcd-43df-9c93-558bd55ae937",
   "metadata": {},
   "outputs": [
    {
     "name": "stdout",
     "output_type": "stream",
     "text": [
      "Correlation Matrix:\n",
      "           Quantity     Value    Weight\n",
      "Quantity  1.000000 -0.015247  0.019284\n",
      "Value    -0.015247  1.000000  0.003627\n",
      "Weight    0.019284  0.003627  1.000000\n"
     ]
    }
   ],
   "source": [
    "# Correlation Matrix\n",
    "correlation_matrix = non_categorical_df.corr()\n",
    "\n",
    "print(\"Correlation Matrix:\\n\", correlation_matrix)"
   ]
  },
  {
   "cell_type": "markdown",
   "id": "bafd0855-129a-4c05-bf00-599069c92e85",
   "metadata": {},
   "source": [
    "# Correlation Interpretation:\n",
    "\n",
    "This correlation matrix provides insight into the linear relationships between three variables: Quantity, Value, and Weight. Here's a breakdown of what each value indicates:\n",
    "\n",
    "Quantity vs. Quantity: The correlation is 1.0, meaning that a variable is always perfectly correlated with itself.\n",
    "\n",
    "Quantity vs. Value: The correlation is -0.015247, which is a very weak negative correlation. This means that as the quantity increases, the value slightly decreases, but the relationship is extremely weak and almost negligible.\n",
    "\n",
    "Quantity vs. Weight: The correlation is 0.019284, which shows a very weak positive correlation. This indicates that there's virtually no relationship between quantity and weight, meaning changes in one don't strongly affect the other.\n",
    "\n",
    "Value vs. Value: The correlation is 1.0, as expected when comparing a variable to itself.\n",
    "\n",
    "Value vs. Weight: The correlation is  0.003627, which again suggests a very weak positive correlation between value and weight. This relationship is almost negligible, implying that changes in the value barely affect the weight.\n",
    "\n",
    "Weight vs. Weight: The correlation is 1.0, as a variable always perfectly correlates with itself."
   ]
  },
  {
   "cell_type": "markdown",
   "id": "6d3f3c53-b0f5-4e8b-ad67-3cc3b8e6e220",
   "metadata": {},
   "source": [
    "## **2.Categorical Data Analysis**"
   ]
  },
  {
   "cell_type": "markdown",
   "id": "2860df45-4451-408d-827c-2b410bb4368a",
   "metadata": {},
   "source": [
    "**Frequency Distribution for Categorical Data (e.g., Country, Product, Shipping_Method)**"
   ]
  },
  {
   "cell_type": "code",
   "execution_count": 83,
   "id": "f0438b5c",
   "metadata": {},
   "outputs": [
    {
     "name": "stdout",
     "output_type": "stream",
     "text": [
      "\n",
      "Frequency Table for Country:\n",
      "\n"
     ]
    },
    {
     "data": {
      "text/html": [
       "<div>\n",
       "<style scoped>\n",
       "    .dataframe tbody tr th:only-of-type {\n",
       "        vertical-align: middle;\n",
       "    }\n",
       "\n",
       "    .dataframe tbody tr th {\n",
       "        vertical-align: top;\n",
       "    }\n",
       "\n",
       "    .dataframe thead th {\n",
       "        text-align: right;\n",
       "    }\n",
       "</style>\n",
       "<table border=\"1\" class=\"dataframe\">\n",
       "  <thead>\n",
       "    <tr style=\"text-align: right;\">\n",
       "      <th></th>\n",
       "      <th>Country</th>\n",
       "      <th>Frequency</th>\n",
       "    </tr>\n",
       "  </thead>\n",
       "  <tbody>\n",
       "    <tr>\n",
       "      <th>0</th>\n",
       "      <td>Congo</td>\n",
       "      <td>28</td>\n",
       "    </tr>\n",
       "    <tr>\n",
       "      <th>1</th>\n",
       "      <td>Korea</td>\n",
       "      <td>24</td>\n",
       "    </tr>\n",
       "    <tr>\n",
       "      <th>2</th>\n",
       "      <td>Italy</td>\n",
       "      <td>21</td>\n",
       "    </tr>\n",
       "    <tr>\n",
       "      <th>3</th>\n",
       "      <td>Anguilla</td>\n",
       "      <td>21</td>\n",
       "    </tr>\n",
       "    <tr>\n",
       "      <th>4</th>\n",
       "      <td>Australia</td>\n",
       "      <td>20</td>\n",
       "    </tr>\n",
       "    <tr>\n",
       "      <th>...</th>\n",
       "      <td>...</td>\n",
       "      <td>...</td>\n",
       "    </tr>\n",
       "    <tr>\n",
       "      <th>238</th>\n",
       "      <td>Saint Helena</td>\n",
       "      <td>6</td>\n",
       "    </tr>\n",
       "    <tr>\n",
       "      <th>239</th>\n",
       "      <td>Azerbaijan</td>\n",
       "      <td>6</td>\n",
       "    </tr>\n",
       "    <tr>\n",
       "      <th>240</th>\n",
       "      <td>Andorra</td>\n",
       "      <td>5</td>\n",
       "    </tr>\n",
       "    <tr>\n",
       "      <th>241</th>\n",
       "      <td>Montenegro</td>\n",
       "      <td>4</td>\n",
       "    </tr>\n",
       "    <tr>\n",
       "      <th>242</th>\n",
       "      <td>Saint Martin</td>\n",
       "      <td>4</td>\n",
       "    </tr>\n",
       "  </tbody>\n",
       "</table>\n",
       "<p>243 rows × 2 columns</p>\n",
       "</div>"
      ],
      "text/plain": [
       "          Country  Frequency\n",
       "0           Congo         28\n",
       "1           Korea         24\n",
       "2           Italy         21\n",
       "3        Anguilla         21\n",
       "4       Australia         20\n",
       "..            ...        ...\n",
       "238  Saint Helena          6\n",
       "239    Azerbaijan          6\n",
       "240       Andorra          5\n",
       "241    Montenegro          4\n",
       "242  Saint Martin          4\n",
       "\n",
       "[243 rows x 2 columns]"
      ]
     },
     "metadata": {},
     "output_type": "display_data"
    },
    {
     "name": "stdout",
     "output_type": "stream",
     "text": [
      "\n",
      "Frequency Table for Product:\n",
      "\n"
     ]
    },
    {
     "data": {
      "text/html": [
       "<div>\n",
       "<style scoped>\n",
       "    .dataframe tbody tr th:only-of-type {\n",
       "        vertical-align: middle;\n",
       "    }\n",
       "\n",
       "    .dataframe tbody tr th {\n",
       "        vertical-align: top;\n",
       "    }\n",
       "\n",
       "    .dataframe thead th {\n",
       "        text-align: right;\n",
       "    }\n",
       "</style>\n",
       "<table border=\"1\" class=\"dataframe\">\n",
       "  <thead>\n",
       "    <tr style=\"text-align: right;\">\n",
       "      <th></th>\n",
       "      <th>Product</th>\n",
       "      <th>Frequency</th>\n",
       "    </tr>\n",
       "  </thead>\n",
       "  <tbody>\n",
       "    <tr>\n",
       "      <th>0</th>\n",
       "      <td>series</td>\n",
       "      <td>11</td>\n",
       "    </tr>\n",
       "    <tr>\n",
       "      <th>1</th>\n",
       "      <td>receive</td>\n",
       "      <td>9</td>\n",
       "    </tr>\n",
       "    <tr>\n",
       "      <th>2</th>\n",
       "      <td>above</td>\n",
       "      <td>9</td>\n",
       "    </tr>\n",
       "    <tr>\n",
       "      <th>3</th>\n",
       "      <td>hotel</td>\n",
       "      <td>9</td>\n",
       "    </tr>\n",
       "    <tr>\n",
       "      <th>4</th>\n",
       "      <td>police</td>\n",
       "      <td>9</td>\n",
       "    </tr>\n",
       "    <tr>\n",
       "      <th>...</th>\n",
       "      <td>...</td>\n",
       "      <td>...</td>\n",
       "    </tr>\n",
       "    <tr>\n",
       "      <th>928</th>\n",
       "      <td>exist</td>\n",
       "      <td>1</td>\n",
       "    </tr>\n",
       "    <tr>\n",
       "      <th>929</th>\n",
       "      <td>method</td>\n",
       "      <td>1</td>\n",
       "    </tr>\n",
       "    <tr>\n",
       "      <th>930</th>\n",
       "      <td>blue</td>\n",
       "      <td>1</td>\n",
       "    </tr>\n",
       "    <tr>\n",
       "      <th>931</th>\n",
       "      <td>notice</td>\n",
       "      <td>1</td>\n",
       "    </tr>\n",
       "    <tr>\n",
       "      <th>932</th>\n",
       "      <td>state</td>\n",
       "      <td>1</td>\n",
       "    </tr>\n",
       "  </tbody>\n",
       "</table>\n",
       "<p>933 rows × 2 columns</p>\n",
       "</div>"
      ],
      "text/plain": [
       "     Product  Frequency\n",
       "0     series         11\n",
       "1    receive          9\n",
       "2      above          9\n",
       "3      hotel          9\n",
       "4     police          9\n",
       "..       ...        ...\n",
       "928    exist          1\n",
       "929   method          1\n",
       "930     blue          1\n",
       "931   notice          1\n",
       "932    state          1\n",
       "\n",
       "[933 rows x 2 columns]"
      ]
     },
     "metadata": {},
     "output_type": "display_data"
    },
    {
     "name": "stdout",
     "output_type": "stream",
     "text": [
      "\n",
      "Frequency Table for Shipping_Method:\n",
      "\n"
     ]
    },
    {
     "data": {
      "text/html": [
       "<div>\n",
       "<style scoped>\n",
       "    .dataframe tbody tr th:only-of-type {\n",
       "        vertical-align: middle;\n",
       "    }\n",
       "\n",
       "    .dataframe tbody tr th {\n",
       "        vertical-align: top;\n",
       "    }\n",
       "\n",
       "    .dataframe thead th {\n",
       "        text-align: right;\n",
       "    }\n",
       "</style>\n",
       "<table border=\"1\" class=\"dataframe\">\n",
       "  <thead>\n",
       "    <tr style=\"text-align: right;\">\n",
       "      <th></th>\n",
       "      <th>Shipping_Method</th>\n",
       "      <th>Frequency</th>\n",
       "    </tr>\n",
       "  </thead>\n",
       "  <tbody>\n",
       "    <tr>\n",
       "      <th>0</th>\n",
       "      <td>Sea</td>\n",
       "      <td>1048</td>\n",
       "    </tr>\n",
       "    <tr>\n",
       "      <th>1</th>\n",
       "      <td>Air</td>\n",
       "      <td>991</td>\n",
       "    </tr>\n",
       "    <tr>\n",
       "      <th>2</th>\n",
       "      <td>Land</td>\n",
       "      <td>962</td>\n",
       "    </tr>\n",
       "  </tbody>\n",
       "</table>\n",
       "</div>"
      ],
      "text/plain": [
       "  Shipping_Method  Frequency\n",
       "0             Sea       1048\n",
       "1             Air        991\n",
       "2            Land        962"
      ]
     },
     "metadata": {},
     "output_type": "display_data"
    },
    {
     "name": "stdout",
     "output_type": "stream",
     "text": [
      "\n",
      "Frequency Table for Import_Export:\n",
      "\n"
     ]
    },
    {
     "data": {
      "text/html": [
       "<div>\n",
       "<style scoped>\n",
       "    .dataframe tbody tr th:only-of-type {\n",
       "        vertical-align: middle;\n",
       "    }\n",
       "\n",
       "    .dataframe tbody tr th {\n",
       "        vertical-align: top;\n",
       "    }\n",
       "\n",
       "    .dataframe thead th {\n",
       "        text-align: right;\n",
       "    }\n",
       "</style>\n",
       "<table border=\"1\" class=\"dataframe\">\n",
       "  <thead>\n",
       "    <tr style=\"text-align: right;\">\n",
       "      <th></th>\n",
       "      <th>Import_Export</th>\n",
       "      <th>Frequency</th>\n",
       "    </tr>\n",
       "  </thead>\n",
       "  <tbody>\n",
       "    <tr>\n",
       "      <th>0</th>\n",
       "      <td>Export</td>\n",
       "      <td>1505</td>\n",
       "    </tr>\n",
       "    <tr>\n",
       "      <th>1</th>\n",
       "      <td>Import</td>\n",
       "      <td>1496</td>\n",
       "    </tr>\n",
       "  </tbody>\n",
       "</table>\n",
       "</div>"
      ],
      "text/plain": [
       "  Import_Export  Frequency\n",
       "0        Export       1505\n",
       "1        Import       1496"
      ]
     },
     "metadata": {},
     "output_type": "display_data"
    },
    {
     "name": "stdout",
     "output_type": "stream",
     "text": [
      "\n",
      "Frequency Table for Payment_Terms:\n",
      "\n"
     ]
    },
    {
     "data": {
      "text/html": [
       "<div>\n",
       "<style scoped>\n",
       "    .dataframe tbody tr th:only-of-type {\n",
       "        vertical-align: middle;\n",
       "    }\n",
       "\n",
       "    .dataframe tbody tr th {\n",
       "        vertical-align: top;\n",
       "    }\n",
       "\n",
       "    .dataframe thead th {\n",
       "        text-align: right;\n",
       "    }\n",
       "</style>\n",
       "<table border=\"1\" class=\"dataframe\">\n",
       "  <thead>\n",
       "    <tr style=\"text-align: right;\">\n",
       "      <th></th>\n",
       "      <th>Payment_Terms</th>\n",
       "      <th>Frequency</th>\n",
       "    </tr>\n",
       "  </thead>\n",
       "  <tbody>\n",
       "    <tr>\n",
       "      <th>0</th>\n",
       "      <td>Net 30</td>\n",
       "      <td>790</td>\n",
       "    </tr>\n",
       "    <tr>\n",
       "      <th>1</th>\n",
       "      <td>Prepaid</td>\n",
       "      <td>743</td>\n",
       "    </tr>\n",
       "    <tr>\n",
       "      <th>2</th>\n",
       "      <td>Cash on Delivery</td>\n",
       "      <td>738</td>\n",
       "    </tr>\n",
       "    <tr>\n",
       "      <th>3</th>\n",
       "      <td>Net 60</td>\n",
       "      <td>730</td>\n",
       "    </tr>\n",
       "  </tbody>\n",
       "</table>\n",
       "</div>"
      ],
      "text/plain": [
       "      Payment_Terms  Frequency\n",
       "0            Net 30        790\n",
       "1           Prepaid        743\n",
       "2  Cash on Delivery        738\n",
       "3            Net 60        730"
      ]
     },
     "metadata": {},
     "output_type": "display_data"
    }
   ],
   "source": [
    "# Frequency counts for categorical columns\n",
    "category_columns = ['Country', 'Product', 'Shipping_Method','Import_Export' , \"Payment_Terms\"]\n",
    "\n",
    "cat_data = sample[category_columns]  # Make sure your sample dataset is correct\n",
    "\n",
    "# Initializing an empty dictionary to store frequency tables\n",
    "frequency_tables = {}\n",
    "\n",
    "# Looping through each column and calculate the frequency table\n",
    "for col in category_columns:\n",
    "    if col in cat_data.columns:\n",
    "        # Calculating frequency using value_counts()\n",
    "        frequency_table = cat_data[col].value_counts().reset_index()\n",
    "        frequency_table.columns = [col, 'Frequency']\n",
    "        \n",
    "        # Storing the frequency table in the dictionary\n",
    "        frequency_tables[col] = frequency_table\n",
    "        \n",
    "        # Printing the frequency table for the column\n",
    "        print(f\"\\nFrequency Table for {col}:\\n\")\n",
    "        display(frequency_table)\n",
    "    else:\n",
    "        print(f\"Column '{col}' does not exist in the dataset.\")"
   ]
  },
  {
   "cell_type": "markdown",
   "id": "1c95846b-2629-4007-af6a-f50b78573570",
   "metadata": {},
   "source": [
    "# Frequency of Country:\n",
    "\n",
    "*Top Countries:*\n",
    "\n",
    "- Congo appears the most frequently in the dataset, with 28 occurrences.\n",
    "- Korea has 24 occurrences, making it the second most common.\n",
    "- Italy follow closely, with 21 occurrences.\n",
    "- Least Frequent Countries:\n",
    "\n",
    "* Least Frequent Countries*\n",
    "\n",
    "- Montenegro and \tSaint Marti both have\t 4 occurrence eachs.\n",
    "\n",
    "# Frequency of Product:\n",
    "\n",
    "##### Most Frequent Products:\n",
    "\n",
    "- *Seriesl** is the most frequent product, appearing **1  times**.\n",
    "- *Receiveh*,**Above** ,**hotel** * and *policed** follow closely with **9 occurrences** each.\n",
    "\n",
    "##### Least Frequent Products:\n",
    "\n",
    "At the bottom of the table, several products appear only once: *notices**, *existk**, *methodd**, *bluen**, and *statek**. These items have the lowest representation in the dataset.\n",
    "\n",
    "\n",
    "# Frequency of Shipping Method:Sea  (1484):Sear shipping is the most common method.\n",
    "Aira 9912) is the most sought after air and Land 9625) is the least common method.\n",
    "\n",
    "This nearly even distribution of shipping methods suggests flexibility in shipping based on product or location requirements.\n",
    "\n",
    "# Frequency of Import/Export:\n",
    "Export (5051): Slightly less transactions are that of exports than imports.\n",
    "\n",
    "Import (4960): The number of import transactions is more than exports.\n",
    "\n",
    "This balance indicates that the dataset contains a nearly equal mix of import and export transactions.\n",
    "\n",
    "# Frequency of Payment Terms:Net30d (980): The most common payment term isNet30d.\n",
    "\n",
    "Cash on Delivery (381), Prepaid  (434),Net 60 (306) follow closely.\n",
    "\n",
    "The distribution of payment terms suggests that multiple methods are nearly equally preferred, with a dominant one that is Prepaid."
   ]
  },
  {
   "cell_type": "markdown",
   "id": "76dc0469",
   "metadata": {},
   "source": [
    "#### Cross - Tabulation ( Category vs Value and Quantity)"
   ]
  },
  {
   "cell_type": "code",
   "execution_count": 88,
   "id": "43bd185b",
   "metadata": {},
   "outputs": [
    {
     "data": {
      "text/html": [
       "<div>\n",
       "<style scoped>\n",
       "    .dataframe tbody tr th:only-of-type {\n",
       "        vertical-align: middle;\n",
       "    }\n",
       "\n",
       "    .dataframe tbody tr th {\n",
       "        vertical-align: top;\n",
       "    }\n",
       "\n",
       "    .dataframe thead th {\n",
       "        text-align: right;\n",
       "    }\n",
       "</style>\n",
       "<table border=\"1\" class=\"dataframe\">\n",
       "  <thead>\n",
       "    <tr style=\"text-align: right;\">\n",
       "      <th></th>\n",
       "      <th>Country</th>\n",
       "      <th>Avg_Value</th>\n",
       "      <th>Avg_Quantity</th>\n",
       "    </tr>\n",
       "  </thead>\n",
       "  <tbody>\n",
       "    <tr>\n",
       "      <th>1</th>\n",
       "      <td>Swaziland</td>\n",
       "      <td>7507.34</td>\n",
       "      <td>5801.00</td>\n",
       "    </tr>\n",
       "    <tr>\n",
       "      <th>2</th>\n",
       "      <td>Syrian Arab Republic</td>\n",
       "      <td>7227.58</td>\n",
       "      <td>3940.18</td>\n",
       "    </tr>\n",
       "    <tr>\n",
       "      <th>3</th>\n",
       "      <td>Saint Lucia</td>\n",
       "      <td>7009.74</td>\n",
       "      <td>4416.60</td>\n",
       "    </tr>\n",
       "    <tr>\n",
       "      <th>4</th>\n",
       "      <td>Sao Tome and Principe</td>\n",
       "      <td>6931.87</td>\n",
       "      <td>5119.00</td>\n",
       "    </tr>\n",
       "    <tr>\n",
       "      <th>5</th>\n",
       "      <td>United States of America</td>\n",
       "      <td>6930.72</td>\n",
       "      <td>5729.38</td>\n",
       "    </tr>\n",
       "  </tbody>\n",
       "</table>\n",
       "</div>"
      ],
      "text/plain": [
       "                    Country  Avg_Value  Avg_Quantity\n",
       "1                 Swaziland    7507.34       5801.00\n",
       "2      Syrian Arab Republic    7227.58       3940.18\n",
       "3               Saint Lucia    7009.74       4416.60\n",
       "4     Sao Tome and Principe    6931.87       5119.00\n",
       "5  United States of America    6930.72       5729.38"
      ]
     },
     "metadata": {},
     "output_type": "display_data"
    },
    {
     "data": {
      "image/png": "[encoded data removed]",
      "text/plain": [
       "<Figure size 1000x600 with 1 Axes>"
      ]
     },
     "metadata": {},
     "output_type": "display_data"
    }
   ],
   "source": [
    "# Group by 'Country' and calculate the average for 'Value' and 'Quantity'\n",
    "country_avg = sample.groupby('Country').agg(\n",
    "    Avg_Value=('Value', 'mean'),\n",
    "    Avg_Quantity=('Quantity', 'mean')\n",
    ").reset_index()\n",
    "\n",
    "# Sort by 'Avg_Value' and 'Avg_Quantity' in descending order\n",
    "country_avg_sorted = country_avg.sort_values(by=['Avg_Value', 'Avg_Quantity'], ascending=False)\n",
    "\n",
    "# Get the top 5 countries with highest average value and quantity\n",
    "top_5_countries = country_avg_sorted.head(5)\n",
    "top_5_countries = np.round(top_5_countries.reset_index(drop=True),2)\n",
    "top_5_countries.index=top_5_countries.index+1\n",
    "\n",
    "\n",
    "# Display the resulting DataFrame\n",
    "                                                \n",
    "display(top_5_countries)\n",
    "\n",
    "\n",
    "# Create a side-by-side bar plot\n",
    "sns.set_theme(style=\"whitegrid\")\n",
    "plt.figure(figsize=(10, 6))\n",
    "sns.barplot(x=\"Country\", y=\"Avg_Value\", data=top_5_countries, color=\"blue\", label=\"Avg_Value\")\n",
    "sns.barplot(x=\"Country\", y=\"Avg_Quantity\", data=top_5_countries, color=\"orange\", label=\"Avg_Quantity\")\n",
    "\n",
    "# Set plot title and labels\n",
    "plt.title(\"Top 5 Countries by Average Value and Quantity\")\n",
    "plt.ylabel(\"Value/Quantity\")\n",
    "plt.legend()\n",
    "\n",
    "# Rotate x-axis labels for better readability\n",
    "plt.xticks(rotation=45)\n",
    "\n",
    "# Show the plot\n",
    "plt.show()"
   ]
  },
  {
   "attachments": {},
   "cell_type": "markdown",
   "id": "ee6ddf49",
   "metadata": {},
   "source": [
    "### Grouping by 'Country' and calculating the average for 'Value' and 'Quantity'\n",
    "\n",
    "\n",
    "| Country | Avg_Value | Avg_Quantity |\n",
    "|\n",
    "1\tSwaziland|\t7507.34|\t5801.0|0|\r\n",
    "2\tSyrian Arab Republi|c\t7227.|58\t3940.|1|8\r\n",
    "3\tSaint Lu|cia\t7009.74\t4416|.|60\r\n",
    "4\tSao Tome and Prin|cipe\t6931.87\t511|9|.00\r\n",
    "5\tUnited States of Am|erica\t6930.72\t57|29.38\r\n",
    "\n",
    "\n",
    "### Key Analysis and Observations\n",
    "\n",
    "**1. Average Value:**\n",
    "\n",
    "* Swaziland has the highest average value at 7507.34.\n",
    "* Syrian Arab Republic has the second highest average value at 7227.58.\n",
    "* The average values for St. Lucia, Sao Tome and Principe, are relatively close to each other, ranging from 6931.87 to 6930.72.\n",
    "\n",
    "**2. Average Quantity:**\n",
    "\n",
    "* Swaziland also has the highest average quantity at 5801.\n",
    "* USA has the second highest average quantity at 5729.38.\n",
    "* Syrian Arab Republic has the lowest average quantity at 3940.18.\n",
    "\n",
    "**3. Relationship between Average Value and Quantity:**\n",
    "\n",
    "* There appears to be a general correlation between average value and quantity. However, this relationship is not perfectly linear. For example, Switzerland has a higher average value than Palau but a lower average quantity.\n",
    "\n",
    "**4. Country-Specific Observations:**\n",
    "\n",
    "* Swaziland has the highest average value and quantity, suggesting it may be producing or consuming high-value goods or services in large quantities.\n",
    "* Syrian Arab Republic has a high average value but a relatively low average quantity, indicating it may be producing or consuming high-value goods or services in smaller quantities.\n",
    "\n",
    "### Managerial Insights\n",
    "\n",
    "**Key Findings and Implications**\n",
    "\n",
    "1. **Country-Specific Performance Analysis:**\n",
    "\n",
    "   * **Swaziland:** This country exhibits the highest average value and quantity, suggesting it might be a significant market or producer of high-value goods or services.\n",
    "   * **Syrian Arab Republic:** While it has a high average value, its lower average quantity indicates a potential focus on high-value, niche products or services.\n",
    "   * **St. Lucia, Sao Tome and Principe:** These countries have relatively similar average values and quantities, suggesting a more balanced market or production profile.\n",
    "\n",
    "2. **Pricing and Demand Dynamics:**\n",
    "\n",
    "   * **Solomon Islands:** The high average value and quantity might indicate strong demand for premium products or services in this country.\n",
    "   * **Switzerland:** The combination of high value and lower quantity suggests a market with a willingness to pay higher prices for specialized goods or services.\n",
    "   * **Other Countries:** The relatively similar average values and quantities in Palau, Somalia, and Guadeloupe might suggest a more competitive market with price sensitivity.\n",
    "\n",
    "3. **Market Segmentation and Targeting:**\n",
    "\n",
    "   * **Swaziland:** Businesses could focus on offering high-quality, premium products or services to cater to the strong demand.\n",
    "   * **Switzerland:** Targeting niche markets or segments that value specialized products or services could be effective.\n",
    "   * **Other Countries:** A more general market approach with a focus on competitive pricing and product differentiation might be suitable.\n",
    "\n",
    "4. **Supply Chain and Operations:**\n",
    "\n",
    "   * **Swaziland:** Businesses might need to invest in efficient supply chains to meet the demand for high-value goods or services.\n",
    "   * **Switzerland:** A focus on quality control and customization might be necessary to cater to the specialized needs of the market.\n",
    "   * **Other Countries:** A more standardized approach to supply chain and operations might be sufficient.\n",
    "\n",
    "### Recommendations\n",
    "\n",
    "* **Conduct Deeper Market Research:** Gather more detailed information about consumer preferences, market trends, and the competitive landscape in each country.\n",
    "* **Tailor Product Offerings:** Customize product offerings and marketing strategies to align with the specific needs and preferences of each market.\n",
    "* **Optimize Supply Chain:** Ensure efficient supply chains and operations to meet demand and maintain competitive pricing.\n",
    "* **Monitor Market Dynamics:** Continuously monitor market changes and adjust strategies accordingly to stay ahead of the competition.\n",
    "* **Consider Partnerships:** Explore strategic partnerships with local businesses or distributors to enhance market penetration and understanding.\n",
    "\n",
    "**By implementing these recommendations, businesses can leverage the insights from this analysis to make informed decisions, optimize their market strategies, and improve overall performance in each country.**"
   ]
  },
  {
   "cell_type": "markdown",
   "id": "e3be7643",
   "metadata": {},
   "source": [
    "#### Cross - Tabulation ( Maximum Weight in KGs by Shipping Method and Category)"
   ]
  },
  {
   "cell_type": "code",
   "execution_count": 92,
   "id": "c8aebc8b",
   "metadata": {},
   "outputs": [
    {
     "name": "stdout",
     "output_type": "stream",
     "text": [
      "\n",
      " Maximum Weight in KGs by Shipping Method and Category :\n"
     ]
    },
    {
     "data": {
      "text/html": [
       "<div>\n",
       "<style scoped>\n",
       "    .dataframe tbody tr th:only-of-type {\n",
       "        vertical-align: middle;\n",
       "    }\n",
       "\n",
       "    .dataframe tbody tr th {\n",
       "        vertical-align: top;\n",
       "    }\n",
       "\n",
       "    .dataframe thead th {\n",
       "        text-align: right;\n",
       "    }\n",
       "</style>\n",
       "<table border=\"1\" class=\"dataframe\">\n",
       "  <thead>\n",
       "    <tr style=\"text-align: right;\">\n",
       "      <th>Category</th>\n",
       "      <th>Clothing</th>\n",
       "      <th>Electronics</th>\n",
       "      <th>Furniture</th>\n",
       "      <th>Machinery</th>\n",
       "      <th>Toys</th>\n",
       "    </tr>\n",
       "    <tr>\n",
       "      <th>Shipping_Method</th>\n",
       "      <th></th>\n",
       "      <th></th>\n",
       "      <th></th>\n",
       "      <th></th>\n",
       "      <th></th>\n",
       "    </tr>\n",
       "  </thead>\n",
       "  <tbody>\n",
       "    <tr>\n",
       "      <th>Air</th>\n",
       "      <td>4897.66</td>\n",
       "      <td>4970.67</td>\n",
       "      <td>4992.64</td>\n",
       "      <td>4992.27</td>\n",
       "      <td>4989.08</td>\n",
       "    </tr>\n",
       "    <tr>\n",
       "      <th>Land</th>\n",
       "      <td>4992.70</td>\n",
       "      <td>4971.40</td>\n",
       "      <td>4941.45</td>\n",
       "      <td>4981.86</td>\n",
       "      <td>4979.10</td>\n",
       "    </tr>\n",
       "    <tr>\n",
       "      <th>Sea</th>\n",
       "      <td>4982.45</td>\n",
       "      <td>4990.24</td>\n",
       "      <td>4970.20</td>\n",
       "      <td>4982.90</td>\n",
       "      <td>4959.85</td>\n",
       "    </tr>\n",
       "  </tbody>\n",
       "</table>\n",
       "</div>"
      ],
      "text/plain": [
       "Category         Clothing  Electronics  Furniture  Machinery     Toys\n",
       "Shipping_Method                                                      \n",
       "Air               4897.66      4970.67    4992.64    4992.27  4989.08\n",
       "Land              4992.70      4971.40    4941.45    4981.86  4979.10\n",
       "Sea               4982.45      4990.24    4970.20    4982.90  4959.85"
      ]
     },
     "metadata": {},
     "output_type": "display_data"
    }
   ],
   "source": [
    "print(\"\\n Maximum Weight in KGs by Shipping Method and Category :\")\n",
    "\n",
    "cross_table_max_weight = sample.pivot_table(\n",
    "    index='Shipping_Method',\n",
    "    columns='Category',\n",
    "    values='Weight',\n",
    "    aggfunc='max'\n",
    ")\n",
    "\n",
    "# Display the resulting pivot table\n",
    "display(cross_table_max_weight)"
   ]
  },
  {
   "cell_type": "markdown",
   "id": "d65b8c1a",
   "metadata": {},
   "source": [
    "### Chi - Square Test"
   ]
  },
  {
   "cell_type": "code",
   "execution_count": 105,
   "id": "2833231d",
   "metadata": {},
   "outputs": [
    {
     "name": "stdout",
     "output_type": "stream",
     "text": [
      "Chi-square statistic: 1.4769034585807126\n",
      "p-value: 0.9930847766806941\n",
      "There is no significant association between Shipping Method and Category.\n"
     ]
    }
   ],
   "source": [
    "chi2, p_value, _, _ = stats.chi2_contingency(cross_table_max_weight)\n",
    "\n",
    "print(\"Chi-square statistic:\", chi2)\n",
    "print(\"p-value:\", p_value)\n",
    "\n",
    "# Interpret the results\n",
    "if p_value < 0.05:\n",
    "    print(\"There is a significant association between Shipping Method and Category.\")\n",
    "else:\n",
    "    print(\"There is no significant association between Shipping Method and Category.\")"
   ]
  },
  {
   "cell_type": "code",
   "execution_count": 97,
   "id": "d9567539",
   "metadata": {},
   "outputs": [
    {
     "data": {
      "image/png": "[encoded data removed]",
      "text/plain": [
       "<Figure size 1000x600 with 2 Axes>"
      ]
     },
     "metadata": {},
     "output_type": "display_data"
    }
   ],
   "source": [
    "# Create a heatmap\n",
    "sns.set_theme()\n",
    "plt.figure(figsize=(10, 6))\n",
    "sns.heatmap(cross_table_max_weight, annot=True, fmt=\".2f\", cmap=\"YlGnBu\")\n",
    "\n",
    "# Set plot title and labels\n",
    "plt.title(\"Maximum Weight in KGs by Shipping Method and Category\")\n",
    "plt.xlabel(\"Category\")\n",
    "plt.ylabel(\"Shipping Method\")\n",
    "\n",
    "# Show the plot\n",
    "plt.show()"
   ]
  },
  {
   "attachments": {},
   "cell_type": "markdown",
   "id": "f1094913",
   "metadata": {},
   "source": [
    "### Findinig Maximum Weight in KGs per Shipping Method and Category\n",
    "\n",
    "| Category | Clothing | Electronics | Furniture | Machinery | Toys |\n",
    "|---|---|---|---|---|---|\n",
    "| Shipping Method | | | | | |\n",
    "| Air | 4927.00 | 4971.92 | 4965.92 | 4994.36 | 4997.24 |\n",
    "| Land | 4994.90 | 4984.60 | 4926.50 | 4998.01 | 4966.97 |\n",
    "| Sea | 4962.45 | 4990.24 | 4993.26 | 4994.71 | 4959.85 |\n",
    "\n",
    "\n",
    "### Key Observations\n",
    "\n",
    "**Category Variation**\n",
    "\n",
    "* **Machinery:** Across all shipping methods, Machinery consistently has the highest maximum weight allowed. This suggests that it's the heaviest category among the listed ones.\n",
    "* **Furtniture:** On the other hand, furniture generally has the lowest maximum weight restrictions, implying it's the lightest category.\n",
    "\n",
    "**Shipping Method Variation**\n",
    "\n",
    "* **Air:** Air shipping generally has lower maximum weight limits compared to Land and Sea, likely due to the weight restrictions imposed by aircraft.\n",
    "* **Sea:** sea shipping shipping falls somewhere between Air and Land in terms of weight limits. It might be influenced by factors like container size and ship capacity. often has the highest maximum weight limits, especially for Machinery. \n",
    "* **Land:** land has lowest weight limits.This could be attributed to the capacity of trucks and other land transportation vehicles.\n",
    "\n",
    "**Specific Observations**\n",
    "\n",
    "* **Clothing:** Air shipping has the lowest maximum weight for Clothing, while Sea shipping has the highest.\n",
    "* **Furniture:** Sea shipping consistently allows for the highest maximum weight for Furniture.\n",
    "* **Machinery:** There's less variation in maximum weight for Machinery across different shipping methods.\n",
    "\n",
    "**Potential Implications**\n",
    "\n",
    "* **Shipping Costs:** Heavier items typically incur higher shipping costs. This analysis can help businesses determine the most cost-effective shipping method for different product categories.\n",
    "* **Packaging:** The maximum weight limits might influence packaging decisions, such as the materials used and the number of items bundled together.\n",
    "* **Product Design:** Manufacturers might consider the weight restrictions when designing products to optimize shipping efficiency and costs.\n",
    "\n",
    "### Statistical Analysis:\n",
    "\n",
    "**Chi-Square Test:**\n",
    "\n",
    "The chi-square test was conducted to determine if there is a significant association between Shipping Method and Category in terms of maximum weight. The results are as follows:\n",
    "\n",
    "* Chi-square statistic: 1.4769034585807126\r",
    "* \n",
    "p-value: 0.9930847766806941\n",
    "\n",
    "**Based on the p-value, there is no significant association between Shipping Method and Category. This suggests that the maximum weight allowed for a product is not significantly influenced by the shipping method chosen.**\n",
    "\n",
    "### Managerial Insights\n",
    "\n",
    "**Key Findings and Implications**\n",
    "\n",
    "1. **Category-Based Shipping Strategies:**\n",
    "\n",
    "   * **Machinery:** Given its high weight, Machinery might benefit from **Land** or **Sea** shipping for cost-effectiveness.\n",
    "   * **Clothing:** **Air** shipping is often the most suitable option due to its lower weight limits.\n",
    "   * **Electronics, Furniture, and Toys:** These categories have less variation in weight restrictions, allowing for more flexibility in shipping method selection. However, **Land** shipping might be preferred for Furniture due to its consistently higher weight limits.\n",
    "\n",
    "2. **Packaging Optimization:**\n",
    "\n",
    "   * **Heavy Items:** For Machinery and Furniture, consider using **sturdy, lightweight materials** to reduce overall weight.\n",
    "   * **Lightweight Items:** For Clothing and Electronics, **optimize packaging** to maximize the number of items per shipment without exceeding weight limits.\n",
    "\n",
    "3. **Product Design Considerations:**\n",
    "\n",
    "   * **Weight Reduction:** If possible, design products to **minimize weight** without compromising functionality or quality. This can lead to lower shipping costs.\n",
    "   * **Dimensional Optimization:** Consider the **dimensions** of products along with weight. Some shipping methods have limitations on both weight and dimensions.\n",
    "\n",
    "4. **Shipping Cost Analysis:**\n",
    "\n",
    "   * **Cost-Benefit Analysis:** Regularly evaluate the **costs** associated with different shipping methods and compare them to the potential **benefits** of faster delivery or reduced handling.\n",
    "   * **Negotiate Rates:** Leverage your shipping volume to negotiate **favorable rates** with carriers.\n",
    "\n",
    "5. **Flexibility and Adaptability:**\n",
    "\n",
    "   * **Market Dynamics:** Be prepared to **adjust** shipping strategies based on changes in market conditions, customer demands, and shipping costs.\n",
    "   * **Emergency Situations:** Have contingency plans in place to handle **urgent shipments** that might require expedited shipping or alternative methods.\n",
    "\n",
    "### Recommendations\n",
    "\n",
    "**Our analysis suggests the following actions to optimize your shipping strategies:**\n",
    "\n",
    "* **Regularly Review Shipping Data:** Track shipping costs, delivery times, and customer satisfaction to identify areas for improvement.\n",
    "* **Utilize Shipping Software:** Implement software to optimize shipping processes, calculate costs, and track shipments effectively.\n",
    "* **Consider Third-Party Logistics (3PL):** Partner with 3PL providers for specialized services like warehousing, transportation management, and customs clearance.\n",
    "* **Stay Informed About Shipping Regulations:** Keep up-to-date with industry regulations, tariffs, and trade agreements that might impact shipping costs and operations.\n",
    "\n",
    "**By implementing these recommendations, the organization can optimize its shipping strategies, reduce costs, and improve overall supply chain efficiency.**\n"
   ]
  },
  {
   "cell_type": "markdown",
   "id": "2ef91e07",
   "metadata": {},
   "source": [
    "#### Cross - Tabulation ( Count of products by their payment terms per Category)"
   ]
  },
  {
   "cell_type": "code",
   "execution_count": 109,
   "id": "a194fdf6",
   "metadata": {},
   "outputs": [
    {
     "name": "stdout",
     "output_type": "stream",
     "text": [
      "\n",
      " Count of products by their payment terms per Category :\n"
     ]
    },
    {
     "data": {
      "image/png": "[encoded data removed]",
      "text/plain": [
       "<Figure size 640x480 with 1 Axes>"
      ]
     },
     "metadata": {},
     "output_type": "display_data"
    }
   ],
   "source": [
    "print(\"\\n Count of products by their payment terms per Category :\")\n",
    "\n",
    "# Create pivot table with count of 'Products' for each category and payment term\n",
    "pivot_table = sample.pivot_table(\n",
    "    values='Product',\n",
    "    index='Category',\n",
    "    columns='Payment_Terms',\n",
    "    aggfunc='count'\n",
    ")\n",
    "\n",
    "# Display the pivot table with formatted output\n",
    "pivot_table.style.format({\n",
    "    '': '{:,.0f}'  # Format all values (product counts) with commas and no decimal places\n",
    "})\n",
    "\n",
    "# Create a stacked bar chart to visualize product counts\n",
    "pivot_table.plot(kind='bar', stacked=True, colormap='Set2')\n",
    "plt.xlabel('Category')\n",
    "plt.ylabel('Product Count')\n",
    "plt.title('Product Count by Payment Term per Category (Stacked Bar Chart)')\n",
    "plt.xticks(rotation=0)  # Rotate x-axis labels for better readability\n",
    "plt.legend(title='Payment Term')\n",
    "plt.tight_layout()  # Adjust spacing for readability\n",
    "\n",
    "# Display the chart\n",
    "plt.show()"
   ]
  },
  {
   "cell_type": "markdown",
   "id": "8f4e75d5",
   "metadata": {},
   "source": [
    "### Chi - Square Test"
   ]
  },
  {
   "cell_type": "code",
   "execution_count": 112,
   "id": "4bf6e30e",
   "metadata": {},
   "outputs": [
    {
     "name": "stdout",
     "output_type": "stream",
     "text": [
      "Chi-square statistic: 12.099054825610112\n",
      "p-value: 0.437757583227862\n",
      "There is no significant association between Category and Payment_Terms.\n"
     ]
    }
   ],
   "source": [
    "from scipy.stats import chi2_contingency\n",
    "\n",
    "chi2, p_value, _, _ = chi2_contingency(pivot_table)\n",
    "\n",
    "print(\"Chi-square statistic:\", chi2)\n",
    "print(\"p-value:\", p_value)\n",
    "\n",
    "# Interpret the results\n",
    "if p_value < 0.05:\n",
    "    print(\"There is a significant association between Category and Payment_Terms.\")\n",
    "else:\n",
    "    print(\"There is no significant association between Category and Payment_Terms.\")"
   ]
  },
  {
   "attachments": {},
   "cell_type": "markdown",
   "id": "f348db94",
   "metadata": {},
   "source": [
    "### Count of products by their payment terms per Category\n",
    "\n",
    "| Category | Cash on Delivery | Net 30 | Net 60 | Prepaid |\n",
    "|---|---|---|---|---|\n",
    "| Clothing | 162 | 142 | 144 | 148 |\n",
    "| Electronics | 137 | 151 | 142 | 148 |\n",
    "| Furniture | 162 | 159 | 135 | 159 |\n",
    "| Machinery | 149 | 142 | 162 | 162 |\n",
    "| Toys | 151 | 140 | 143 | 163 |\n",
    "\n",
    "\n",
    "### Key Analysis and Observations\n",
    "\n",
    "**Payment Term Distribution:**\n",
    "\n",
    "* Across all categories, the most common payment terms are \"Cash on Delivery\" and \"Net 30.\" This suggests that a majority of customers prefer immediate payment or short-term credit.\n",
    "\n",
    "**Category Variations:**\n",
    "\n",
    "* **Clothing:** \"Cash on Delivery\" is the most popular payment term, followed by \"Net 30.\" This indicates a preference for immediate payment or short-term credit, possibly due to the lower value of clothing items.\n",
    "* **Electronics:** \"Net 30\" is the most popular payment term, followed by \"Cash on Delivery.\" This suggests that customers may be more willing to pay on credit for higher-value electronic products.\n",
    "* **Furniture:** Similar to Electronics, \"Net 30\" is the preferred payment term, indicating a willingness to pay on credit for larger purchases.\n",
    "* **Machinery:** \"Net 60\" and \"Prepaid\" are slightly more popular than \"Cash on Delivery\" and \"Net 30.\" This suggests that customers in this category might require longer payment terms, possibly due to the higher value and complexity of machinery purchases.\n",
    "* **Toys:** \"Prepaid\" is the most popular payment term, followed by \"Cash on Delivery.\" This indicates a preference for immediate payment, likely due to the lower value of toys and the convenience of prepaid options.\n",
    "\n",
    "### Statistical Analysis\n",
    "\n",
    "**Chi-Square Test:**\n",
    "\n",
    "A chi-square test was conducted to determine if there is a significant association between Category and Payment_Terms. The results are as follows:\n",
    "\n",
    "* Chi-square statistic: 7.1827090450111\n",
    "* p-value: 0.8453068394556151\n",
    "\n",
    "**Based on the p-value, there is no significant association between Category and Payment_Terms. This suggests that the choice of payment term is not significantly influenced by the product category.**\n",
    "\n",
    "### Managerial Insights\n",
    "\n",
    "**1. Credit Policy Optimization:**\n",
    "\n",
    "* **Category-Specific Policies:** Consider implementing different credit policies for different categories based on their payment term preferences. For example, offer more flexible payment terms for Machinery, while maintaining stricter terms for Clothing and Toys.\n",
    "* **Risk Assessment:** Evaluate the creditworthiness of customers before offering extended payment terms, especially for higher-value items.\n",
    "\n",
    "**2. Pricing Strategies:**\n",
    "\n",
    "* **Discounts for Early Payment:** Incentivize customers to pay earlier by offering discounts for \"Cash on Delivery\" or \"Net 30\" payments.\n",
    "* **Interest Charges:** Implement reasonable interest charges for late payments to encourage timely payments and maintain cash flow.\n",
    "\n",
    "**3. Payment Options:**\n",
    "\n",
    "* **Expand Payment Options:** Offer a variety of payment options, such as credit cards, digital wallets, and installment plans, to cater to different customer preferences.\n",
    "* **Online Payment Gateways:** Ensure secure and efficient online payment gateways to facilitate easy transactions.\n",
    "\n",
    "**4. Customer Relationship Management:**\n",
    "\n",
    "* **Personalized Communication:** Communicate payment terms clearly and effectively to customers, tailoring the communication to their specific needs and preferences.\n",
    "* **Follow-up and Collections:** Implement efficient follow-up and collections processes to minimize late payments and bad debts.\n",
    "\n",
    "**5. Inventory Management:**\n",
    "\n",
    "* **Demand Forecasting:** Use payment term data to forecast demand and optimize inventory levels, reducing the risk of stockouts or excess inventory.\n",
    "\n",
    "**6. Financial Analysis:**\n",
    "\n",
    "* **Cash Flow Management:** Monitor cash flow closely to ensure adequate funds for operations and investments.\n",
    "* **Profitability Analysis:** Evaluate the impact of different payment terms on profitability and make adjustments as needed.\n",
    "\n",
    "**By implementing these managerial insights, businesses can optimize their payment policies, improve customer satisfaction, and enhance overall financial performance.**"
   ]
  },
  {
   "cell_type": "markdown",
   "id": "3b05e564",
   "metadata": {},
   "source": [
    "### Rank categories based on the most preferred Category(i.e., highest total economic impact)"
   ]
  },
  {
   "cell_type": "code",
   "execution_count": 118,
   "id": "522e17db",
   "metadata": {},
   "outputs": [
    {
     "data": {
      "text/html": [
       "<div>\n",
       "<style scoped>\n",
       "    .dataframe tbody tr th:only-of-type {\n",
       "        vertical-align: middle;\n",
       "    }\n",
       "\n",
       "    .dataframe tbody tr th {\n",
       "        vertical-align: top;\n",
       "    }\n",
       "\n",
       "    .dataframe thead th {\n",
       "        text-align: right;\n",
       "    }\n",
       "</style>\n",
       "<table border=\"1\" class=\"dataframe\">\n",
       "  <thead>\n",
       "    <tr style=\"text-align: right;\">\n",
       "      <th></th>\n",
       "      <th>Total Economic Impact in $</th>\n",
       "      <th>Rank</th>\n",
       "    </tr>\n",
       "    <tr>\n",
       "      <th>Category</th>\n",
       "      <th></th>\n",
       "      <th></th>\n",
       "    </tr>\n",
       "  </thead>\n",
       "  <tbody>\n",
       "    <tr>\n",
       "      <th>Electronics</th>\n",
       "      <td>3290150.13</td>\n",
       "      <td>1.0</td>\n",
       "    </tr>\n",
       "    <tr>\n",
       "      <th>Clothing</th>\n",
       "      <td>3103193.99</td>\n",
       "      <td>2.0</td>\n",
       "    </tr>\n",
       "    <tr>\n",
       "      <th>Furniture</th>\n",
       "      <td>3045267.16</td>\n",
       "      <td>3.0</td>\n",
       "    </tr>\n",
       "    <tr>\n",
       "      <th>Toys</th>\n",
       "      <td>2979683.13</td>\n",
       "      <td>4.0</td>\n",
       "    </tr>\n",
       "    <tr>\n",
       "      <th>Machinery</th>\n",
       "      <td>2848285.31</td>\n",
       "      <td>5.0</td>\n",
       "    </tr>\n",
       "  </tbody>\n",
       "</table>\n",
       "</div>"
      ],
      "text/plain": [
       "             Total Economic Impact in $  Rank\n",
       "Category                                     \n",
       "Electronics                  3290150.13   1.0\n",
       "Clothing                     3103193.99   2.0\n",
       "Furniture                    3045267.16   3.0\n",
       "Toys                         2979683.13   4.0\n",
       "Machinery                    2848285.31   5.0"
      ]
     },
     "metadata": {},
     "output_type": "display_data"
    },
    {
     "data": {
      "image/png": "[encoded data removed]",
      "text/plain": [
       "<Figure size 800x800 with 1 Axes>"
      ]
     },
     "metadata": {},
     "output_type": "display_data"
    }
   ],
   "source": [
    "# Rank categories by the total economic impact (Value), higher value gets a higher rank\n",
    "economic_impact = sample.groupby('Category')['Value'].sum()\n",
    "\n",
    "# Rank the categories based on the summed Value in descending order (most preferred = rank 1)\n",
    "economic_impact_rank = economic_impact.rank(ascending=False, method='dense')\n",
    "\n",
    "# Combine the economic impact values and their rank into a DataFrame for better display\n",
    "economic_impact_rank_df = pd.DataFrame({\n",
    "    'Total Economic Impact in $': economic_impact,\n",
    "    'Rank': economic_impact_rank\n",
    "}).sort_values(by='Rank')\n",
    "\n",
    "# Display the DataFrame\n",
    "display(economic_impact_rank_df)\n",
    "\n",
    "# Get the total economic impact values\n",
    "total_economic_impact = economic_impact_rank_df['Total Economic Impact in $']\n",
    "\n",
    "# Create a pie chart\n",
    "plt.figure(figsize=(8, 8))\n",
    "plt.pie(total_economic_impact, labels=economic_impact_rank_df.index, autopct='%1.1f%%', startangle=140)\n",
    "\n",
    "# Set title and show the plot\n",
    "plt.title('Distribution of Total Economic Impact')\n",
    "plt.show()"
   ]
  },
  {
   "attachments": {},
   "cell_type": "markdown",
   "id": "3285a01d",
   "metadata": {},
   "source": [
    "### Rank categories based on the most preferred Category(i.e., highest total economic impact)\n",
    "\t5.0\r\n",
    "\n",
    "\n",
    "### Key Findings\n",
    "Electronicsiture Dominates:** Electroniciture\" category has the highest Total Economic Impact, significantly surpassing the other categories. This suggests that furniture sales or production have the greatest economic contribution.\n",
    "* **Close Competition:** The remaining categories (Toys, Clothing, Machinery,Furnitureonics) have relatively similar economic impacts, indicating a competitive landscape.\n",
    "\n",
    "### Managerial Insights and Recommendations\n",
    "\n",
    "**1. FocuElectronicsiture:**\n",
    "\n",
    "* **Product Innovation:** Continue to invest in innovaelectroniciture designs and features to maintain market leadership.\n",
    "* **Market Expansion:** Explore opportunities to expand intoelectroniciture markets or segments.\n",
    "* **Supply Chain Optimization:** Ensure efficient supply chains to reduce costs and improve product availability.\n",
    "\n",
    "**2. Competitive Analysis:**\n",
    "\n",
    "* **Benchmarking:** Regularly benchmark your performance against competitors in the Toys, Clothing, Machinery,Furnitureonics categories to identify areas for improvement.\n",
    "* **Product Differentiation:** Develop unique selling propositions for your products to differentiate them from competitors.\n",
    "* **Pricing Strategies:** Analyze competitor pricing and adjust your own pricing strategies accordingly to maintain market share and profitability.\n",
    "\n",
    "**3. Diversification:**\n",
    "\n",
    "* **New Categories:** Consider expanding into new product categories to reduce reliance onElectroniciture category and diversify revenue streams.\n",
    "* **Related Products:** Explore opportunities to offer complementary products or services to increase customer value and cross-selling.\n",
    "\n",
    "**4. Customer Satisfaction:**\n",
    "\n",
    "* **Feedback Analysis:** Gather customer feedback to understand their needs and preferences.\n",
    "* **Customer Service:** Provide excellent customer service to build loyalty and positive word-of-mouth.\n",
    "\n",
    "**5. Sustainability:**\n",
    "\n",
    "* **Ethical Sourcing:** Ensure that your products are sourced ethically and sustainably.\n",
    "* **Environmental Impact:** Minimize your business's environmental impact by adopting sustainable practices.\n",
    "\n",
    "**6. Technological Advancements:**\n",
    "\n",
    "* **Innovation:** Stay updated on technological advancements in your industry and explore opportunities to incorporate them into your products or processes.\n",
    "* **Digital Transformation:** Leverage digital technologies to improve efficiency, enhance customer experience, and gather valuable data.\n",
    "\n",
    "**By implementing these managerial insights, businesses can capitalize on their strengths in the Furniture category while strategically addressing the competitive landscape in other areas. This will help them maintain a sustainable and profitable position in the market.**"
   ]
  },
  {
   "cell_type": "markdown",
   "id": "aa2bea80-fd20-43d1-9b89-908e23bf404b",
   "metadata": {},
   "source": [
    "**Cross-Tabulation ( Country vs Import_Export)**"
   ]
  },
  {
   "cell_type": "code",
   "execution_count": 123,
   "id": "64eca280-ca7e-427a-91ef-2e51cf2d14cd",
   "metadata": {},
   "outputs": [
    {
     "data": {
      "text/plain": [
       "'Cross-tabulation of Country vs Import/Export: '"
      ]
     },
     "metadata": {},
     "output_type": "display_data"
    },
    {
     "data": {
      "text/html": [
       "<div>\n",
       "<style scoped>\n",
       "    .dataframe tbody tr th:only-of-type {\n",
       "        vertical-align: middle;\n",
       "    }\n",
       "\n",
       "    .dataframe tbody tr th {\n",
       "        vertical-align: top;\n",
       "    }\n",
       "\n",
       "    .dataframe thead th {\n",
       "        text-align: right;\n",
       "    }\n",
       "</style>\n",
       "<table border=\"1\" class=\"dataframe\">\n",
       "  <thead>\n",
       "    <tr style=\"text-align: right;\">\n",
       "      <th>Import_Export</th>\n",
       "      <th>Export</th>\n",
       "      <th>Import</th>\n",
       "    </tr>\n",
       "    <tr>\n",
       "      <th>Country</th>\n",
       "      <th></th>\n",
       "      <th></th>\n",
       "    </tr>\n",
       "  </thead>\n",
       "  <tbody>\n",
       "    <tr>\n",
       "      <th>Afghanistan</th>\n",
       "      <td>4</td>\n",
       "      <td>8</td>\n",
       "    </tr>\n",
       "    <tr>\n",
       "      <th>Albania</th>\n",
       "      <td>3</td>\n",
       "      <td>7</td>\n",
       "    </tr>\n",
       "    <tr>\n",
       "      <th>Algeria</th>\n",
       "      <td>6</td>\n",
       "      <td>7</td>\n",
       "    </tr>\n",
       "    <tr>\n",
       "      <th>American Samoa</th>\n",
       "      <td>6</td>\n",
       "      <td>9</td>\n",
       "    </tr>\n",
       "    <tr>\n",
       "      <th>Andorra</th>\n",
       "      <td>4</td>\n",
       "      <td>1</td>\n",
       "    </tr>\n",
       "  </tbody>\n",
       "</table>\n",
       "</div>"
      ],
      "text/plain": [
       "Import_Export   Export  Import\n",
       "Country                       \n",
       "Afghanistan          4       8\n",
       "Albania              3       7\n",
       "Algeria              6       7\n",
       "American Samoa       6       9\n",
       "Andorra              4       1"
      ]
     },
     "metadata": {},
     "output_type": "display_data"
    },
    {
     "data": {
      "text/plain": [
       "<Figure size 1000x600 with 0 Axes>"
      ]
     },
     "metadata": {},
     "output_type": "display_data"
    },
    {
     "data": {
      "image/png": "[encoded data removed]",
      "text/plain": [
       "<Figure size 640x480 with 1 Axes>"
      ]
     },
     "metadata": {},
     "output_type": "display_data"
    }
   ],
   "source": [
    "# Cross-tabulation of categorical variables\n",
    "country_vs_import_export = pd.crosstab(sample['Country'], sample['Import_Export']).head()\n",
    "\n",
    "display(\"Cross-tabulation of Country vs Import/Export: \", country_vs_import_export)\n",
    "\n",
    "# Create a bar chart\n",
    "plt.figure(figsize=(10, 6))\n",
    "country_vs_import_export.plot(kind='bar')\n",
    "plt.xlabel(\"Country\")\n",
    "plt.ylabel(\"Count\")\n",
    "plt.title(\"Cross-tabulation of Country vs Import/Export\")\n",
    "plt.legend()\n",
    "plt.xticks(rotation=45)\n",
    "plt.show()"
   ]
  },
  {
   "attachments": {},
   "cell_type": "markdown",
   "id": "a4382045-e06d-46ee-bd8f-609a5acd97ca",
   "metadata": {},
   "source": [
    "# Top 5 Countries in Import/Export:\n",
    "\n",
    "\n",
    "### Key Observations\n",
    "\n",
    "**Export-Import Balance:**\n",
    "\n",
    "* **Afghanistan:** The country has an balance of 2 in exports and imports, with 4 and 8 units of each.\n",
    "* **Albania:** Albania has a higher number of imports (7) compared to exports (4), indicating a trade deficit.\n",
    "* **Andorra** Algeria has a higher number of exports (4) compared to imports (1), indicating a trade surplus.\n",
    "* **American Samoa:** The country has a slightly higher number of imports (9) compared to exports (6), indicating a small trade deficit.\n",
    "* **Albania:** Albania also has a higher number of imports (7) compared to exports (3), indicating a trade deficit.\n",
    "\n",
    "**Country-Specific Analysis:**\n",
    "\n",
    "* **Albania,Afganistan,Andorra and American Samoa:** These countries demonstrate a significant difference between exports and imports, suggesting a focus on either exporting or importing specific goods or services.\n",
    "* **Algeria:** Algeria has relatively balanced trade, indicating a more diversified import-export profile.\n",
    "\n",
    "**Potential Implications:**\n",
    "\n",
    "* **Economic Growth:** Countries with a trade surplus (Andorra) might experience economic growth due to increased exports and foreign exchange inflows.\n",
    "* **Dependency:** Countries with a trade deficit (Algeria, American Samoa, Albania) might be more dependent on imports and vulnerable to external economic shocks.\n",
    "* **Trade Policies:** Governments might implement trade policies to address trade imbalances and promote economic growth.\n",
    "\n",
    "## Managerial Insights and Recommendations\n",
    "\n",
    "**Based on the provided data and analysis, here are some key managerial insights and recommendations:**\n",
    "\n",
    "### General Observations\n",
    "* **Trade Imbalances:** The data reveals that most countries in the sample have trade imbalances, with either a surplus or deficit. This suggests that these countries have specialized economies focused on specific sectors.\n",
    "* **Diversification:** Countries with a more balanced trade profile, such as Andorra, may be less vulnerable to economic shocks.\n",
    "* **Trade Policies:** Governments should carefully consider trade policies to address trade imbalances and promote economic growth.\n",
    "\n",
    "### Country-Specific Recommendations\n",
    "\n",
    "**Andorra:**\n",
    "* **Leverage Export Advantages:** Given its trade surplus, Andorra should explore opportunities to expand its exports and identify new markets.\n",
    "* **Diversify Imports:** To reduce dependence on imports, Andorra could consider diversifying its supply chains and exploring domestic production alternatives.\n",
    "\n",
    "**Algeria:**\n",
    "* **Import Substitution:** Algeria might consider policies to promote domestic production of goods that are currently imported, reducing its trade deficit.\n",
    "* **Export Promotion:** The government could implement incentives to encourage exports of Algerian products and services.\n",
    "\n",
    "**American Samoa and Albania:**\n",
    "* **Maintain Trade Balance:** These countries should strive to maintain a balanced trade profile, ensuring that imports and exports are aligned.\n",
    "* **Explore Export Opportunities:** Both countries could identify potential export markets for their products and services.\n",
    "\n",
    "### Overall Recommendations\n",
    "* **Trade Data Analysis:** Regular analysis of trade data is essential for identifying trends, opportunities, and challenges.\n",
    "* **Trade Agreements:** Countries should consider negotiating trade agreements to improve market access and reduce trade barriers.\n",
    "* **Economic Diversification:** To reduce vulnerability to economic shocks, countries should diversify their economies and promote multiple sectors.\n",
    "* **Infrastructure Development:** Investments in infrastructure, such as transportation and logistics, can facilitate trade and reduce costs.\n",
    "* **Education and Skill Development:** Investing in education and skill development can enhance the competitiveness of a country's workforce and exports.\n",
    "\n",
    "By carefully considering these insights and recommendations, governments and businesses can make informed decisions to optimize their trade strategies and promote economic growth."
   ]
  },
  {
   "cell_type": "markdown",
   "id": "100cb7ce-83c0-417f-a59a-b00b559d5f98",
   "metadata": {},
   "source": [
    "**Inferential Statistics**"
   ]
  },
  {
   "cell_type": "code",
   "execution_count": 127,
   "id": "ce6000a9-cf8a-4af6-baf6-1e0a0c3d641d",
   "metadata": {},
   "outputs": [
    {
     "name": "stdout",
     "output_type": "stream",
     "text": [
      "t-statistic: -0.177\n",
      "p-value: 0.86\n"
     ]
    }
   ],
   "source": [
    "from scipy import stats\n",
    "\n",
    "# Subsetting data for imports and exports\n",
    "import_data = sample[sample['Import_Export'] == 'Import']['Value']\n",
    "export_data = sample[sample['Import_Export'] == 'Export']['Value']\n",
    "\n",
    "# t-test to compare means of import vs export values\n",
    "t_stat, p_value = np.round(stats.ttest_ind(import_data, export_data),3)\n",
    "\n",
    "print(\"t-statistic:\", t_stat)\n",
    "print(\"p-value:\", p_value)"
   ]
  },
  {
   "cell_type": "markdown",
   "id": "67ac5208-2b52-45b4-9868-5edf79d8ca75",
   "metadata": {},
   "source": [
    "**Chi-Square Test for Categorical Variables ( Country vs Import_Export)**"
   ]
  },
  {
   "cell_type": "code",
   "execution_count": 130,
   "id": "c85ea1d7-adf9-4d9c-8973-092387b4cd41",
   "metadata": {},
   "outputs": [
    {
     "name": "stdout",
     "output_type": "stream",
     "text": [
      "Chi-squared Statistic: 218.42865618845565\n",
      "p-value: 0.8594317132228018\n"
     ]
    }
   ],
   "source": [
    "# Chi-squared test of independence between Country and Import_Export\n",
    "contingency_table = pd.crosstab(sample['Country'], sample['Import_Export'])\n",
    "chi2_stat, p_val, dof, ex = stats.chi2_contingency(contingency_table)\n",
    "\n",
    "print(\"Chi-squared Statistic:\", chi2_stat)\n",
    "print(\"p-value:\", p_val)"
   ]
  },
  {
   "cell_type": "markdown",
   "id": "c8c092ed-fea7-48d3-b5b8-7d2856b3b89b",
   "metadata": {},
   "source": [
    "**ANOVA (Compare Value Across Different Product Categories)**"
   ]
  },
  {
   "cell_type": "code",
   "execution_count": 133,
   "id": "cdb581b3-942f-44d0-a130-3154d4d0a019",
   "metadata": {},
   "outputs": [
    {
     "name": "stdout",
     "output_type": "stream",
     "text": [
      "ANOVA F-statistic: 1.0257792567982555\n",
      "p-value: 0.3213692514880766\n"
     ]
    }
   ],
   "source": [
    "product_groups = [group['Value'].values for name, group in sample.groupby('Product')]\n",
    "\n",
    "f_stat, p_value = stats.f_oneway(*product_groups)\n",
    "\n",
    "print(\"ANOVA F-statistic:\", f_stat)\n",
    "print(\"p-value:\", p_value)"
   ]
  },
  {
   "cell_type": "markdown",
   "id": "cb5d6134-d50b-4e68-8502-599eb3f03fec",
   "metadata": {},
   "source": [
    "# NON-CATEGORICAL DATA"
   ]
  },
  {
   "cell_type": "markdown",
   "id": "011429e6-8c01-48ac-a446-39e572431c7c",
   "metadata": {},
   "source": [
    "# COMPOSITE MEASURE"
   ]
  },
  {
   "cell_type": "code",
   "execution_count": 137,
   "id": "9d2647f5-6acd-4dc6-a2fb-107b6fa850a8",
   "metadata": {},
   "outputs": [
    {
     "name": "stdout",
     "output_type": "stream",
     "text": [
      "Coefficient of variation for Quantity :  0.5783638814708403\n",
      "Coefficient of variation for Value :  0.563369877608691\n",
      "Coefficient of variation for Weight :  0.5866297851769501\n"
     ]
    }
   ],
   "source": [
    "import statistics as stats\n",
    "\n",
    "# coefficient of quantity\n",
    "Coeff_Var_Quantity = stats.stdev(non_categorical_df['Quantity'])/stats.mean(non_categorical_df['Quantity'])\n",
    "print('Coefficient of variation for Quantity : ', Coeff_Var_Quantity)\n",
    "\n",
    "Coeff_Var_Value = stats.stdev(non_categorical_df['Value'])/stats.mean(non_categorical_df['Value'])\n",
    "print('Coefficient of variation for Value : ', Coeff_Var_Value)\n",
    "\n",
    "# coefficient of weight\n",
    "Coeff_Var_Weight = stats.stdev(non_categorical_df['Weight'])/stats.mean(non_categorical_df['Weight'])\n",
    "print('Coefficient of variation for Weight : ', Coeff_Var_Weight) "
   ]
  },
  {
   "cell_type": "markdown",
   "id": "d125249d-cc51-487f-ab47-56c6594fa7f4",
   "metadata": {},
   "source": [
    "Coefficient of variation tells us about how much the variability is present within the dataset,\n",
    "So here we have:\n",
    "\n",
    "# QUANTITY:\n",
    "Quantities have variation of  0.5783638814708403\n",
    "This implies that  ->\n",
    "1. Quantities are spread out around the mean by approx 56.40% of the mean value.\n",
    "2. They are not to much clustered around the mean but have different quantities' ranges.\n",
    "\n",
    "# VALUE: \n",
    "Values have variation of  0.563369877608691 \n",
    "This implies that ->\n",
    "1. Values are spread around the mean by approx 57.11% of the mean value.\n",
    "2. Different values for different transactions is present.\n",
    "\n",
    "# WEIGHT:\n",
    "Weights have variation of 0.5866297851769501 among them\n",
    "This implies that ->\n",
    "1. Weights are spread around the mean by approx 58.20% of the mean value.\n",
    "2. Inconsistency in weights are here (which means different weights for different quantities are present)\n",
    "                                      "
   ]
  },
  {
   "cell_type": "code",
   "execution_count": 141,
   "id": "563187bc-9ca7-4eab-b834-d5ffd55f5f13",
   "metadata": {},
   "outputs": [
    {
     "data": {
      "text/plain": [
       "0.01928361301774647"
      ]
     },
     "execution_count": 141,
     "metadata": {},
     "output_type": "execute_result"
    }
   ],
   "source": [
    "# correlation between quantity and weight\n",
    "non_categorical_df['Quantity'].corr(non_categorical_df['Weight'])"
   ]
  },
  {
   "cell_type": "markdown",
   "id": "eb388e72-277b-4cb3-a5fc-03133334ed3a",
   "metadata": {},
   "source": [
    "# Correlation between Quantities and Weights\n",
    "\n",
    "The correlation between the quantities and the weights is 0.01928361301774647, which indicates a very weak correlation between the two. This suggests that there is almost no linear relationship between quantity and weight. Two possible reasons for this weak correlation might be:\n",
    "\n",
    "In a manufacturing setting, if you measure the weight of products and their quantities, a very weak correlation could indicate that weight doesn’t scale linearly with quantity, possibly due to varying product types, sizes, or materials.\n",
    "\n",
    "For consumer goods where packaging varies, the quantity and weight may not have a strong linear relationship due to differences in packaging materials and product sizes. For instance, lighter products might be packaged in bulk, while heavier ones might come in smaller quantities."
   ]
  },
  {
   "cell_type": "code",
   "execution_count": 144,
   "id": "e9dc4ba3-c6d1-4a87-a9bc-e9639fd46016",
   "metadata": {},
   "outputs": [
    {
     "data": {
      "text/plain": [
       "-0.01524729760844623"
      ]
     },
     "execution_count": 144,
     "metadata": {},
     "output_type": "execute_result"
    }
   ],
   "source": [
    "# correlation between quantity and Value\n",
    "non_categorical_df['Quantity'].corr(non_categorical_df['Value'])"
   ]
  },
  {
   "cell_type": "markdown",
   "id": "e8d18426-0fcd-4220-b68a-810fc6b39fb7",
   "metadata": {},
   "source": [
    "# Correlation between Quantity and Value \n",
    "\n",
    "The correlation is very weakly negative (-0.01524729760844623), indicating that quantity is very weakly inversely correlated with the transaction value. This suggests that as the quantity increases, the transaction value tends to decrease slightly, but the relationship is almost negligible.\n",
    "\n",
    "Several factors could contribute to this weak negative correlation, such as:\n",
    "\n",
    "Market trends: Shifts in supply and demand can impact both quantity and value differently.\n",
    "Discounts and promotions: Larger quantities might be associated with bulk discounts, leading to a decrease in the overall transaction value per unit.\n",
    "Customer demographics: Different customer segments may purchase varying quantities at different price points, leading to a weak and inconsistent relationship between quantity and value."
   ]
  },
  {
   "cell_type": "code",
   "execution_count": 149,
   "id": "8e53b94b-fe5f-4dd2-9a2e-060e460be7c4",
   "metadata": {},
   "outputs": [],
   "source": [
    "import numpy as np"
   ]
  },
  {
   "cell_type": "code",
   "execution_count": 151,
   "id": "cfd87f6d-f75e-4857-bcc6-c058354ea2df",
   "metadata": {},
   "outputs": [
    {
     "data": {
      "text/plain": [
       "(4856.269948233529, 5061.579435305291)"
      ]
     },
     "execution_count": 151,
     "metadata": {},
     "output_type": "execute_result"
    }
   ],
   "source": [
    "# calculation confidence interval for quantity\n",
    "\n",
    "mean = np.mean(non_categorical_df['Quantity'])\n",
    "std_error = stats.sem(non_categorical_df['Quantity'])\n",
    "\n",
    "confidence = 0.95 # 95% comfidence level\n",
    "margin_of_error = std_error * stats.t.ppf((1 + confidence) / 2., len(non_categorical_df['Quantity']) - 1)\n",
    "confidence_interval = (mean - margin_of_error, mean + margin_of_error)\n",
    "\n",
    "confidence_interval"
   ]
  },
  {
   "cell_type": "markdown",
   "id": "b2e8ad32-0556-4809-8355-3a81cafbf5e3",
   "metadata": {},
   "source": [
    "# Confidence interval of Quantity\n",
    "This will tells us that the actual average quantity of transactions (including import and export, for the whole dataset) will lie in between (4856.269948233529, 5061.579435305291).\n"
   ]
  },
  {
   "cell_type": "code",
   "execution_count": 154,
   "id": "8bda1bb9-5058-496a-9c3e-cd04f78ebb69",
   "metadata": {},
   "outputs": [
    {
     "data": {
      "text/plain": [
       "(2409.1689199466236, 2512.508720839781)"
      ]
     },
     "execution_count": 154,
     "metadata": {},
     "output_type": "execute_result"
    }
   ],
   "source": [
    "# calculation confidence interval for Weights\n",
    "\n",
    "mean = np.mean(non_categorical_df['Weight'])\n",
    "std_error = stats.sem(non_categorical_df['Weight'])\n",
    "\n",
    "confidence = 0.95 # 95% comfidence level\n",
    "margin_of_error = std_error * stats.t.ppf((1 + confidence) / 2., len(non_categorical_df['Weight']) - 1)\n",
    "confidence_interval = (mean - margin_of_error, mean + margin_of_error)\n",
    "\n",
    "confidence_interval"
   ]
  },
  {
   "cell_type": "markdown",
   "id": "533395e1-79c8-48a6-b8f7-3a2629f17a71",
   "metadata": {},
   "source": [
    "# Confidence interval of Weight\n",
    "This will tells us that the actual average weight of transactions (including import and export, for the whole dataset) will lie in between (2409.1689199466236, 2512.508720839781)."
   ]
  },
  {
   "cell_type": "code",
   "execution_count": 157,
   "id": "1eef1f23-70b2-43e5-80e3-d718ae24eec2",
   "metadata": {},
   "outputs": [],
   "source": [
    "# <<---------- end of composite measure ------------>>"
   ]
  },
  {
   "cell_type": "markdown",
   "id": "0ad9957e-5eae-4564-a0d6-31408794e8ca",
   "metadata": {},
   "source": [
    "# INFERENTIAL STATISTICS"
   ]
  },
  {
   "cell_type": "markdown",
   "id": "f9a86f34-a17c-496b-a1ca-1e485a3c1e00",
   "metadata": {},
   "source": [
    "# TEST OF MEAN"
   ]
  },
  {
   "cell_type": "markdown",
   "id": "c0c7e61f-65fe-482d-ab6b-bb733cef6316",
   "metadata": {},
   "source": [
    "# T - test\n",
    " As the columns belongs to same dataset and are information about same entity we will\n",
    " perform paired T - test. "
   ]
  },
  {
   "cell_type": "code",
   "execution_count": 162,
   "id": "230f5a4a-6810-484d-a5fc-8dc6245209cd",
   "metadata": {},
   "outputs": [
    {
     "name": "stdout",
     "output_type": "stream",
     "text": [
      "T-Statistic , p_value and df :  TtestResult(statistic=42.9541814981587, pvalue=1.2754561443e-314, df=3000)\n",
      "Signifiance difference is there between the means\n"
     ]
    }
   ],
   "source": [
    "# Test on Quantity and Weight\n",
    "t_stats1 = stats.ttest_rel(non_categorical_df['Quantity'], non_categorical_df['Weight'])\n",
    "print('T-Statistic , p_value and df : ', t_stats1)\n",
    "\n",
    "significance_level = 0.05\n",
    "\n",
    "if t_stats1.pvalue < significance_level:\n",
    "    print('Signifiance difference is there between the means')\n",
    "else:\n",
    "    print('No Signifiance difference between the means')"
   ]
  },
  {
   "cell_type": "code",
   "execution_count": 164,
   "id": "2b2de57e-c181-49b0-8215-fbb0dac51dc6",
   "metadata": {},
   "outputs": [
    {
     "name": "stdout",
     "output_type": "stream",
     "text": [
      "T-Statistic, p_value and df:  TtestResult(statistic=-1.7195895147984868, pvalue=0.08561022753482112, df=3000)\n",
      "No Signifiance difference between the means\n"
     ]
    }
   ],
   "source": [
    "# Test on Quantity and Value\n",
    "t_stats2 = stats.ttest_rel(non_categorical_df['Quantity'], non_categorical_df['Value'])\n",
    "print('T-Statistic, p_value and df: ', t_stats2)\n",
    "\n",
    "\n",
    "significance_level = 0.05\n",
    "\n",
    "if t_stats2.pvalue < significance_level:\n",
    "    print('Signifiance difference between the means')\n",
    "else:\n",
    "    print('No Signifiance difference between the means')"
   ]
  },
  {
   "cell_type": "code",
   "execution_count": 166,
   "id": "f24ca2bf-9205-45ec-8931-aad6bfec7d49",
   "metadata": {},
   "outputs": [
    {
     "name": "stdout",
     "output_type": "stream",
     "text": [
      "T-Statistic, p_value and df:  TtestResult(statistic=-44.899919188018174, pvalue=0.0, df=3000)\n",
      "Signifiance difference between the means\n"
     ]
    }
   ],
   "source": [
    "# Test on Weight and Value\n",
    "t_stats3 = stats.ttest_rel(non_categorical_df['Weight'], non_categorical_df['Value'])\n",
    "print('T-Statistic, p_value and df: ', t_stats3)\n",
    "\n",
    "\n",
    "significance_level = 0.05\n",
    "\n",
    "if t_stats3.pvalue < significance_level:\n",
    "    print('Signifiance difference between the means')\n",
    "else:\n",
    "    print('No Signifiance difference between the means')"
   ]
  },
  {
   "cell_type": "code",
   "execution_count": 168,
   "id": "d2e4bc89-f088-401f-bd4c-a84df2287fd7",
   "metadata": {},
   "outputs": [],
   "source": [
    "# <<--------- end of test of Mean ------------->>"
   ]
  },
  {
   "cell_type": "markdown",
   "id": "168e8b64-03e9-4679-b6fd-a34b53965991",
   "metadata": {},
   "source": [
    "# Test of variance:\n",
    "\n",
    "1. F - TEST - using test on quantity and weight"
   ]
  },
  {
   "cell_type": "code",
   "execution_count": 171,
   "id": "def0982a-62d0-4971-b82d-c1763eac77da",
   "metadata": {},
   "outputs": [
    {
     "name": "stdout",
     "output_type": "stream",
     "text": [
      "Variance of Quantity :  8225784.985660122\n",
      "Variance of Weight :  2083984.8535710764\n",
      "p_value for 2 tail:  2.22e-16\n",
      "The variances are significantly different\n"
     ]
    }
   ],
   "source": [
    "var_Quantity = np.var(non_categorical_df['Quantity'], ddof = 1)\n",
    "var_Weight = np.var(non_categorical_df['Weight'], ddof = 1)\n",
    "\n",
    "print('Variance of Quantity : ', var_Quantity)\n",
    "print('Variance of Weight : ', var_Weight)\n",
    "\n",
    "F = var_Quantity / var_Weight\n",
    "\n",
    "dof1 = len(non_categorical_df['Quantity']) - 1\n",
    "dof2 = len(non_categorical_df['Weight']) - 1\n",
    "\n",
    "p_value = 1 - stats.f.cdf(F, dof1, dof2) # cdf = cumulative distribution function\n",
    "\n",
    "p_value_2T = np.round(p_value * 2, 18)\n",
    "print(\"p_value for 2 tail: \", p_value_2T)\n",
    "\n",
    "significance_level = 0.05\n",
    "\n",
    "if (p_value_2T < significance_level):\n",
    "    print(\"The variances are significantly different\")\n",
    "\n",
    "else:\n",
    "    print(\"The variances are not significantly different\")"
   ]
  },
  {
   "cell_type": "markdown",
   "id": "7266d9df-9ca6-43a9-8e30-3063f0d8385b",
   "metadata": {},
   "source": [
    "The cause of significantly different could be less variance of weight as comapre to quantity which also implies that weight is small spread around the mean as comapre to quantity.\n"
   ]
  },
  {
   "cell_type": "markdown",
   "id": "1a76051b-64e5-4f51-a43a-137143177e9d",
   "metadata": {},
   "source": [
    "2. LEVENE TEST - using test on quantity and value\n",
    "\n",
    "For this test lets assume that both entities have equal variance"
   ]
  },
  {
   "cell_type": "code",
   "execution_count": 175,
   "id": "d553dbef-aa90-4347-8b56-b62ba3d33eb0",
   "metadata": {},
   "outputs": [
    {
     "name": "stdout",
     "output_type": "stream",
     "text": [
      "levene's test stats:  0.04807646758173095\n",
      "p_value:  0.8264522775223433\n",
      "No significant difference between the variances\n"
     ]
    }
   ],
   "source": [
    "stat, p_value = stats.levene(non_categorical_df['Quantity'],non_categorical_df['Value'], center = 'median')\n",
    "print(\"levene's test stats: \", stat)\n",
    "print(\"p_value: \", p_value)\n",
    "\n",
    "significance_level = 0.05\n",
    "\n",
    "if p_value < significance_level:\n",
    "    print('Significant difference between the variances')\n",
    "\n",
    "else:\n",
    "    print('No significant difference between the variances')\n"
   ]
  },
  {
   "cell_type": "markdown",
   "id": "168e6a36-e324-4851-bf6a-6449f009f0de",
   "metadata": {},
   "source": [
    "3. BARTLETT TEST - using on weight and value"
   ]
  },
  {
   "cell_type": "code",
   "execution_count": 178,
   "id": "7e4b5b7e-9e0f-42d4-a29a-883f8f33efa8",
   "metadata": {},
   "outputs": [
    {
     "name": "stdout",
     "output_type": "stream",
     "text": [
      "Bartlett's Test Stats:  1312.1564304062067\n",
      "P_Value:  2.5791009763284993e-287\n",
      "Significant difference between the variances\n"
     ]
    }
   ],
   "source": [
    "stat, p_value = stats.bartlett(non_categorical_df['Weight'], non_categorical_df['Value'])\n",
    "print(\"Bartlett's Test Stats: \", stat)\n",
    "print(\"P_Value: \", p_value)\n",
    "\n",
    "significance_level = 0.05\n",
    "\n",
    "if p_value < significance_level:\n",
    "    print('Significant difference between the variances')\n",
    "else:\n",
    "    print('No significant difference between the variances')"
   ]
  },
  {
   "cell_type": "markdown",
   "id": "4e3f5505-2f5a-452f-a926-ae55735930ed",
   "metadata": {},
   "source": [
    "# PERFORMING LEVENE AND BARTLETT TEST ON ALL QUANTITY, VALUE AND WEIGHT"
   ]
  },
  {
   "cell_type": "code",
   "execution_count": 181,
   "id": "5358c066-acfa-4ad3-9a40-a35a9d85e47c",
   "metadata": {},
   "outputs": [
    {
     "name": "stdout",
     "output_type": "stream",
     "text": [
      "levene's test stats:  995.2548528753929\n",
      "p_value:  0.0\n",
      "Significant difference between the variances\n"
     ]
    }
   ],
   "source": [
    "stat, p_value = stats.levene(non_categorical_df['Quantity'],non_categorical_df['Value'],non_categorical_df['Weight'], center = 'median')\n",
    "print(\"levene's test stats: \", stat)\n",
    "print(\"p_value: \", p_value)\n",
    "\n",
    "significance_level = 0.05\n",
    "\n",
    "if p_value < significance_level:\n",
    "    print('Significant difference between the variances')\n",
    "\n",
    "else:\n",
    "    print('No significant difference between the variances')"
   ]
  },
  {
   "cell_type": "code",
   "execution_count": 183,
   "id": "f7b4015c-588e-4b63-aa74-af426c86a1d0",
   "metadata": {},
   "outputs": [
    {
     "name": "stdout",
     "output_type": "stream",
     "text": [
      "Bartlett's Test Stats:  2035.039901792425\n",
      "P_Value:  0.0\n",
      "Significant difference between the variances\n"
     ]
    }
   ],
   "source": [
    "stat, p_value = stats.bartlett(non_categorical_df['Weight'], non_categorical_df['Value'], non_categorical_df['Weight'])\n",
    "print(\"Bartlett's Test Stats: \", stat)\n",
    "print(\"P_Value: \", p_value)\n",
    "\n",
    "significance_level = 0.05\n",
    "\n",
    "if p_value < significance_level:\n",
    "    print('Significant difference between the variances')\n",
    "else:\n",
    "    print('No significant difference between the variances')"
   ]
  },
  {
   "cell_type": "code",
   "execution_count": 185,
   "id": "d6920cdf-c9cb-48d2-a063-dc82f43b8d56",
   "metadata": {},
   "outputs": [],
   "source": [
    "# <<------------------ end of test of Variance --------------->>"
   ]
  },
  {
   "cell_type": "markdown",
   "id": "047286c2-b773-4d00-a376-5ebb6045b729",
   "metadata": {},
   "source": [
    "# Test of PROPORTION"
   ]
  },
  {
   "cell_type": "markdown",
   "id": "f335025b-4c25-4a95-ae3f-f16986334789",
   "metadata": {},
   "source": [
    "# Z - TEST\n",
    "\n",
    "1. QUANTITY - checking proportion of quantity between 0 to 2000"
   ]
  },
  {
   "cell_type": "code",
   "execution_count": 189,
   "id": "9b9fd3c9-fcd7-4f6c-b66f-b67053035c6d",
   "metadata": {},
   "outputs": [
    {
     "name": "stdout",
     "output_type": "stream",
     "text": [
      "Sample proporation:  603\n",
      "Sample size:  3001\n",
      "hypothesized proportion 500\n",
      "Z-stats:  (6.916968589146526e-16-11.2962669627886j)\n",
      "p_value:  0.0\n",
      "hypothesized proportion is significantly different from the proportion quantity\n"
     ]
    }
   ],
   "source": [
    "Pro_Quantity = 0 # Sample proportion\n",
    "for i in range(len(non_categorical_df['Quantity'])):\n",
    "    n = non_categorical_df['Quantity'].iloc[i]\n",
    "    if (0 <= n <= 2000):\n",
    "        Pro_Quantity += 1\n",
    "    \n",
    "Size_Quantity = len(non_categorical_df['Quantity'])\n",
    "\n",
    "print('Sample proporation: ', Pro_Quantity)\n",
    "print('Sample size: ', Size_Quantity)\n",
    "\n",
    "hypothesize_proportion = 500  # Hypothesized quantity proportion\n",
    "\n",
    "print('hypothesized proportion', hypothesize_proportion)\n",
    "\n",
    "standard_error = (hypothesize_proportion * (1 - hypothesize_proportion) / Size_Quantity) ** 0.5\n",
    "\n",
    "z_stats = (Pro_Quantity - hypothesize_proportion) / standard_error\n",
    "\n",
    "p_value = 2 * (1 - stats.norm.cdf(abs(z_stats)))\n",
    "\n",
    "print('Z-stats: ', z_stats)\n",
    "print('p_value: ', p_value)\n",
    "\n",
    "significance_level = 0.05\n",
    "\n",
    "if p_value < significance_level:\n",
    "    print('hypothesized proportion is significantly different from the proportion quantity')\n",
    "else:\n",
    "    print('hypothesized proportion is not significantly different from the proportion quantity')\n",
    "    "
   ]
  },
  {
   "cell_type": "markdown",
   "id": "4d5abd3a-2f16-4775-a714-520f70f04c9a",
   "metadata": {},
   "source": [
    "2. WEIGHT - checking proportion of weights between 4000 to 4300"
   ]
  },
  {
   "cell_type": "code",
   "execution_count": 192,
   "id": "e04a44e2-298a-4789-85e5-1489c1c0c2b0",
   "metadata": {},
   "outputs": [
    {
     "name": "stdout",
     "output_type": "stream",
     "text": [
      "Sample proporation:  157\n",
      "Sample size:  3001\n",
      "hypothesized proportion 100\n",
      "Z-stats:  (1.9216359376987363e-15-31.382696448260088j)\n",
      "p_value:  0.0\n",
      "hypothesized proportion is significantly different from the proportion quantity\n"
     ]
    }
   ],
   "source": [
    "Pro_Weight = 0 # Sample proportion\n",
    "for i in range(len(non_categorical_df['Weight'])):\n",
    "    n = non_categorical_df['Weight'].iloc[i]\n",
    "    if (4000 <= n <= 4300):\n",
    "        Pro_Weight += 1\n",
    "    \n",
    "Size_Weight = len(non_categorical_df['Weight'])\n",
    "\n",
    "print('Sample proporation: ', Pro_Weight)\n",
    "print('Sample size: ', Size_Weight)\n",
    "\n",
    "hypothesize_proportion = 100  # Hypothesized quantity proportion\n",
    "\n",
    "print('hypothesized proportion', hypothesize_proportion)\n",
    "\n",
    "standard_error = (hypothesize_proportion * (1 - hypothesize_proportion) / Size_Weight) ** 0.5\n",
    "\n",
    "z_stats = (Pro_Weight - hypothesize_proportion) / standard_error\n",
    "\n",
    "p_value = 2 * (1 - stats.norm.cdf(abs(z_stats)))\n",
    "\n",
    "print('Z-stats: ', z_stats)\n",
    "print('p_value: ', p_value)\n",
    "\n",
    "significance_level = 0.05\n",
    "\n",
    "if p_value < significance_level:\n",
    "    print('hypothesized proportion is significantly different from the proportion quantity')\n",
    "else:\n",
    "    print('hypothesized proportion is not significantly different from the proportion quantity')\n",
    "    "
   ]
  },
  {
   "cell_type": "markdown",
   "id": "4a0dfc0e-d1cb-4f65-9e76-2a7fc1c1f7a1",
   "metadata": {},
   "source": [
    "3. VALUE - checking proportion of weights between 2600 to 3000"
   ]
  },
  {
   "cell_type": "code",
   "execution_count": 195,
   "id": "81505208-767a-489a-a6ec-ec94cb1b4446",
   "metadata": {},
   "outputs": [
    {
     "name": "stdout",
     "output_type": "stream",
     "text": [
      "Sample proporation:  116\n",
      "Sample size:  3001\n",
      "hypothesized proportion 50\n",
      "Z-stats:  (7.251278564588718e-15-118.42236585499329j)\n",
      "p_value:  0.0\n",
      "hypothesized proportion is significantly different from the proportion quantity\n"
     ]
    }
   ],
   "source": [
    "Pro_Value = 0 # Sample proportion\n",
    "for i in range(len(non_categorical_df['Value'])):\n",
    "    n = non_categorical_df['Value'].iloc[i]\n",
    "    if (2600 <= n <= 3000):\n",
    "        Pro_Value += 1\n",
    "    \n",
    "Size_Value = len(non_categorical_df['Value'])\n",
    "\n",
    "print('Sample proporation: ', Pro_Value)\n",
    "print('Sample size: ', Size_Value)\n",
    "\n",
    "hypothesize_proportion = 50  # Hypothesized quantity proportion\n",
    "\n",
    "print('hypothesized proportion', hypothesize_proportion)\n",
    "\n",
    "standard_error = (hypothesize_proportion * (1 - hypothesize_proportion) / Size_Value) ** 0.5\n",
    "\n",
    "z_stats = (Pro_Weight - hypothesize_proportion) / standard_error\n",
    "\n",
    "p_value = 2 * (1 - stats.norm.cdf(abs(z_stats)))\n",
    "\n",
    "print('Z-stats: ', z_stats)\n",
    "print('p_value: ', p_value)\n",
    "\n",
    "significance_level = 0.05\n",
    "\n",
    "if p_value < significance_level:\n",
    "    print('hypothesized proportion is significantly different from the proportion quantity')\n",
    "else:\n",
    "    print('hypothesized proportion is not significantly different from the proportion quantity')\n",
    "    "
   ]
  },
  {
   "cell_type": "markdown",
   "id": "99b4a9f0-fd24-4d24-84df-ab5bd8898ece",
   "metadata": {},
   "source": [
    "In the above 3 z-test for Quantities, Weights and Values we have assumed some hypothesized proportion and checked if the actual sample proportion matches to it or not.\n",
    "this help to check assuptions about the same.\n",
    "    "
   ]
  },
  {
   "cell_type": "markdown",
   "id": "4eb26507-4d02-4a5d-a4fa-78581ce094e5",
   "metadata": {},
   "source": [
    "# chi - sq test"
   ]
  },
  {
   "cell_type": "code",
   "execution_count": 199,
   "id": "04a33a32-4591-401b-86e8-f56b2d48e95f",
   "metadata": {},
   "outputs": [
    {
     "name": "stdout",
     "output_type": "stream",
     "text": [
      "chi_stats:  8676358.345092827\n",
      "p_value:  0.0\n",
      "Significant difference in proportions between the samples\n"
     ]
    }
   ],
   "source": [
    "data = np.array([[non_categorical_df['Quantity']],\n",
    "                [non_categorical_df['Weight']],\n",
    "                [non_categorical_df['Value']]])\n",
    "chi_stats, p_Value,_,_ = stats.chi2_contingency(data, correction = False)\n",
    "\n",
    "print('chi_stats: ', chi_stats)\n",
    "print('p_value: ', p_value)\n",
    "\n",
    "significance_level = 0.05\n",
    "\n",
    "if p_value < significance_level:\n",
    "    print(\"Significant difference in proportions between the samples\")\n",
    "\n",
    "else:\n",
    "    print(\"No significant difference in proportions between the samples\")"
   ]
  },
  {
   "cell_type": "code",
   "execution_count": 201,
   "id": "184d4568-39ef-4167-9eb1-399c8fbc4b6c",
   "metadata": {},
   "outputs": [],
   "source": [
    "# <<---------- end of test of proportion ---------------->>"
   ]
  },
  {
   "cell_type": "markdown",
   "id": "d8f765bc-4937-4230-b894-247bb67e27b3",
   "metadata": {},
   "source": [
    "# TEST OF CORRELATION"
   ]
  },
  {
   "cell_type": "markdown",
   "id": "8c8b1a8f-d6a0-4698-81ef-5f869bc69d08",
   "metadata": {},
   "source": [
    "# T - TEST "
   ]
  },
  {
   "cell_type": "code",
   "execution_count": 205,
   "id": "40962746-7ef4-434b-bf1f-44195a8ec750",
   "metadata": {},
   "outputs": [],
   "source": [
    "import numpy as np\n",
    "from scipy import stats"
   ]
  },
  {
   "cell_type": "markdown",
   "id": "032916b5-af03-40f5-8333-7898c47a9469",
   "metadata": {},
   "source": [
    "# TEST OF NORMALITY"
   ]
  },
  {
   "cell_type": "markdown",
   "id": "5ba10e34-eb5c-4539-b152-1e316a3eba25",
   "metadata": {},
   "source": [
    "# 1. Shapiro-Wilk Test"
   ]
  },
  {
   "cell_type": "code",
   "execution_count": 209,
   "id": "2a592aab-e4c7-4ac8-ba4f-a05490c7fe12",
   "metadata": {},
   "outputs": [
    {
     "name": "stdout",
     "output_type": "stream",
     "text": [
      "Shapiro-wilk Test for:  Quantity\n",
      "Test stats:  0.9543551975917652  and p-value:  1.1601061912663151e-29\n",
      "Reject (sample does not appear to be normally distributed)\n",
      "\n",
      "\n",
      "Shapiro-wilk Test for:  Weight\n",
      "Test stats:  0.9548749257743813  and p-value:  1.621119112506727e-29\n",
      "Reject (sample does not appear to be normally distributed)\n",
      "\n",
      "\n",
      "Shapiro-wilk Test for:  Value\n",
      "Test stats:  0.9543731603795271  and p-value:  1.1735423369567146e-29\n",
      "Reject (sample does not appear to be normally distributed)\n"
     ]
    }
   ],
   "source": [
    "def shapiro_test(sample, name):\n",
    "    stat, p_value = stats.shapiro(sample)\n",
    "    print(\"Shapiro-wilk Test for: \", name)\n",
    "    print(\"Test stats: \", stat, \" and p-value: \", p_value)\n",
    "\n",
    "    significance_level = 0.05\n",
    "    if p_value > significance_level:\n",
    "        print(\"Fail to reject (sample is consistent with normality)\")\n",
    "    else:\n",
    "        print(\"Reject (sample does not appear to be normally distributed)\")\n",
    "\n",
    "\n",
    "shapiro_test(non_categorical_df['Quantity'], \"Quantity\")\n",
    "print(\"\\n\")\n",
    "shapiro_test(non_categorical_df['Weight'], \"Weight\")\n",
    "print(\"\\n\")\n",
    "shapiro_test(non_categorical_df['Value'], \"Value\")\n"
   ]
  },
  {
   "cell_type": "markdown",
   "id": "02f5c172-64a8-4667-b0be-cb5f6c10df52",
   "metadata": {},
   "source": [
    "From the results of the Shapiro-Wilk tests, we can conclude that none of the three samples (Quantity, Weight, and Value) appear to follow a normal distribution. This is evidenced by their extremely small p-values and significantly low test statistics.\n",
    "\n",
    "These findings suggest that the data may exhibit non-normality, such as asymmetry or skewness. "
   ]
  },
  {
   "cell_type": "markdown",
   "id": "1d3d44c7-dd0f-46dd-9c6c-b976a952e8db",
   "metadata": {},
   "source": [
    "<span style=\"color: red; font-weight: bold; font-size: 30px\">2. Kolmogorov-Smirnov Test</span>"
   ]
  },
  {
   "cell_type": "markdown",
   "id": "df762ed6-68f1-47fe-a043-5d43e39a187d",
   "metadata": {},
   "source": [
    "Now as the above test gives us the result that they do not belong to normal distribution, let's first check weather they are from same distribution or not."
   ]
  },
  {
   "cell_type": "code",
   "execution_count": 214,
   "id": "65af3ddc-1649-43de-acf6-5e93a4137837",
   "metadata": {},
   "outputs": [],
   "source": [
    "import numpy as np\n",
    "from scipy import stats"
   ]
  },
  {
   "cell_type": "code",
   "execution_count": 216,
   "id": "0357027c-8ef2-4f63-8671-97050d79ee8a",
   "metadata": {},
   "outputs": [
    {
     "name": "stdout",
     "output_type": "stream",
     "text": [
      "Quantity and Weight test stats:  0.49250249916694433 p-value:  0.0\n",
      "Weight and Value test stats:  0.5128290569810063 p-value:  0.0\n",
      "Value and Quantity test stats:  0.023658780406531157 p-value:  0.3704669756961871\n",
      "\n",
      "\n",
      "Quantity and Weight are from different distribution (rejected)\n",
      "\n",
      "\n",
      "Weight and Value are from different distribution (rejected)\n",
      "\n",
      "\n",
      "Value and Quantity are from same distribution (fail to reject)\n"
     ]
    }
   ],
   "source": [
    "# performing K-S test\n",
    "statQ_W, p_valueQ_W = stats.ks_2samp(non_categorical_df['Quantity'], non_categorical_df['Weight'])\n",
    "statW_V, p_valueW_V = stats.ks_2samp(non_categorical_df['Weight'], non_categorical_df['Value'])\n",
    "statV_Q, p_valueV_Q = stats.ks_2samp(non_categorical_df['Value'], non_categorical_df['Quantity'])\n",
    "\n",
    "print('Quantity and Weight test stats: ', statQ_W, 'p-value: ', p_valueQ_W)\n",
    "print('Weight and Value test stats: ', statW_V, 'p-value: ', p_valueW_V)\n",
    "print('Value and Quantity test stats: ', statV_Q, 'p-value: ', p_valueV_Q)\n",
    "\n",
    "significance_level = 0.05\n",
    "print('\\n')\n",
    "\n",
    "if p_valueQ_W > significance_level:\n",
    "    print(\"Quantity and Weight are from same distribution (fail to reject)\")\n",
    "else:\n",
    "    print(\"Quantity and Weight are from different distribution (rejected)\")\n",
    "\n",
    "print('\\n')\n",
    "\n",
    "if p_valueW_V > significance_level:\n",
    "    print(\"Weight and Value are from same distribution (fail to reject)\")\n",
    "else:\n",
    "    print(\"Weight and Value are from different distribution (rejected)\")\n",
    "\n",
    "print('\\n')\n",
    "\n",
    "if p_valueV_Q > significance_level:\n",
    "    print(\"Value and Quantity are from same distribution (fail to reject)\")\n",
    "else:\n",
    "    print(\"Value and Quantity are from different distribution (rejected)\")\n"
   ]
  },
  {
   "cell_type": "markdown",
   "id": "2a5c0c29-0d7f-49c9-8bfa-149c6d6b5adf",
   "metadata": {},
   "source": [
    "Apart from Value and Quantity, all the other pairs (Quantity and Weight, Weight and Value) are from different distributions.\n",
    "\n",
    "This is based on the Kolmogorov-Smirnov test results, where the p-values for the comparisons of Quantity and Weight, and Weight and Value are both 0.0, indicating a significant difference between their distributions.\n",
    "\n",
    "The conclusion that Value and Quantity are from the same distribution is correct, as the p-value for their comparison is 0.7162786535454, which is greater than the typical significance level of 0.05."
   ]
  },
  {
   "cell_type": "code",
   "execution_count": 219,
   "id": "75796499-1fd1-4d61-9ab1-3a7710ee27cf",
   "metadata": {},
   "outputs": [
    {
     "data": {
      "image/png": "[encoded data removed]",
      "text/plain": [
       "<Figure size 640x480 with 1 Axes>"
      ]
     },
     "metadata": {},
     "output_type": "display_data"
    }
   ],
   "source": [
    "import matplotlib.pyplot as plt\n",
    "import seaborn as sns\n",
    "import numpy as np\n",
    "\n",
    "sns.histplot(non_categorical_df['Quantity'], kde = True, color = 'blue')\n",
    "plt.title('Distribution with Density Curve', fontsize=15)\n",
    "plt.xlabel('Data Values')\n",
    "plt.ylabel('Frequency')\n",
    "\n",
    "# Show the plot\n",
    "\n",
    "plt.show()"
   ]
  },
  {
   "cell_type": "code",
   "execution_count": 221,
   "id": "4c28d7ea-0156-4472-8388-acf38c8a1934",
   "metadata": {},
   "outputs": [
    {
     "data": {
      "image/png": "[encoded data removed]",
      "text/plain": [
       "<Figure size 640x480 with 1 Axes>"
      ]
     },
     "metadata": {},
     "output_type": "display_data"
    }
   ],
   "source": [
    "sns.histplot(non_categorical_df['Weight'], kde = True, color = 'red')\n",
    "plt.title('Distribution with Density Curve', fontsize=15)\n",
    "plt.xlabel('Data Values')\n",
    "plt.ylabel('Frequency')\n",
    "\n",
    "# Show the plot\n",
    "plt.show()"
   ]
  },
  {
   "cell_type": "code",
   "execution_count": 223,
   "id": "729a1092-4540-4e2c-bba5-0cc234907dee",
   "metadata": {},
   "outputs": [
    {
     "data": {
      "image/png": "[encoded data removed]",
      "text/plain": [
       "<Figure size 640x480 with 1 Axes>"
      ]
     },
     "metadata": {},
     "output_type": "display_data"
    }
   ],
   "source": [
    "sns.histplot(non_categorical_df['Value'], kde = True, color = 'blue')\n",
    "plt.title('Distribution with Density Curve', fontsize=15)\n",
    "plt.xlabel('Data Values')\n",
    "plt.ylabel('Frequency')\n",
    "\n",
    "# Show the plot\n",
    "plt.show()"
   ]
  },
  {
   "cell_type": "markdown",
   "id": "e0f71426",
   "metadata": {},
   "source": [
    "## Regression"
   ]
  },
  {
   "cell_type": "markdown",
   "id": "68dda9d1",
   "metadata": {},
   "source": [
    "### Second-Degree Polynomial Regression"
   ]
  },
  {
   "cell_type": "code",
   "execution_count": 227,
   "id": "65947ed6",
   "metadata": {},
   "outputs": [
    {
     "name": "stdout",
     "output_type": "stream",
     "text": [
      "[ 0.00000000e+00 -2.28182732e-02  2.02102367e-06]\n",
      "2494.140643754959\n"
     ]
    }
   ],
   "source": [
    "#Second-Degree Polynomial Regression (Imports)Predict Weight based on Value for Import transactions               \n",
    "import numpy as np\n",
    "import pandas as pd\n",
    "from sklearn.preprocessing import PolynomialFeatures\n",
    "from sklearn.linear_model import LinearRegression\n",
    "\n",
    "# Filter for Import transactions\n",
    "df_imports = sample[sample['Import_Export'] == 'Import']  # Adjust condition based on your column\n",
    "\n",
    "# Define dependent and independent variables\n",
    "X = df_imports[['Quantity']]  # Replace with actual column name\n",
    "y = df_imports['Weight']  # Replace with actual column name\n",
    "\n",
    "# Transform the input for a polynomial regression (second degree)\n",
    "poly = PolynomialFeatures(degree=2)\n",
    "X_poly = poly.fit_transform(X)\n",
    "#Second-Degree Polynomial Regression (Imports)Predict Weight based on Value for Import transactions.\n",
    "# Fit the polynomial regression model\n",
    "model = LinearRegression()\n",
    "model.fit(X_poly, y)\n",
    "\n",
    "# Output the model coefficients\n",
    "print(model.coef_)\n",
    "print(model.intercept_)"
   ]
  },
  {
   "cell_type": "markdown",
   "id": "a859985b",
   "metadata": {},
   "source": [
    "**Interpretation of Output:**\n",
    "\n",
    "The output coefficients represent the weights assigned to each polynomial term in the regression equation. In this case, the equation is:\n",
    "\n",
    "Weight = 2408.704144513425 + 0.00000000e+00 * Quantity -2.28182732e-02  * Quantity^2 + * 2.02102367e-06 Quantity^3\n",
    "The coefficient for the linear term (Quantity) is essentially zero, indicating that there's no linear relationship between \"Quantity\" and \"Weight\" in the data. However, the coefficients for the squared and cubed terms are non-zero, suggesting that the relationship between \"Quantity\" and \"Weight\" is better explained by a quadratic or cubic curve.\n",
    "\n",
    "The intercept term (2494.140643754959) represents the predicted \"Weight\" when \"Quantity\" is zero."
   ]
  },
  {
   "cell_type": "markdown",
   "id": "8df142fe",
   "metadata": {},
   "source": [
    "### Logisitic Regression"
   ]
  },
  {
   "cell_type": "code",
   "execution_count": 231,
   "id": "e111a4c7",
   "metadata": {},
   "outputs": [
    {
     "name": "stdout",
     "output_type": "stream",
     "text": [
      "              precision    recall  f1-score   support\n",
      "\n",
      "      Export       0.48      0.65      0.55       300\n",
      "      Import       0.46      0.29      0.36       301\n",
      "\n",
      "    accuracy                           0.47       601\n",
      "   macro avg       0.47      0.47      0.45       601\n",
      "weighted avg       0.47      0.47      0.45       601\n",
      "\n"
     ]
    }
   ],
   "source": [
    "#Logistic Regression-Predict whether a transaction is Import or Export based on Value and Weight.\n",
    "import pandas as pd\n",
    "from sklearn.linear_model import LogisticRegression\n",
    "from sklearn.model_selection import train_test_split\n",
    "from sklearn.metrics import classification_report\n",
    "\n",
    "# Define dependent and independent variables\n",
    "X = sample[['Value', 'Weight']]  # Use 'sample' as the DataFrame variable name\n",
    "y = sample['Import_Export']  # Ensure 'Import_Export' contains binary values\n",
    "\n",
    "# Split the data into training and testing sets\n",
    "X_train, X_test, y_train, y_test = train_test_split(X, y, test_size=0.2, random_state=42)\n",
    "\n",
    "# Fit the logistic regression model\n",
    "model = LogisticRegression()\n",
    "model.fit(X_train, y_train)\n",
    "\n",
    "# Predicting and evaluating the model\n",
    "y_pred = model.predict(X_test)\n",
    "print(classification_report(y_test, y_pred))"
   ]
  },
  {
   "cell_type": "markdown",
   "id": "8512e849",
   "metadata": {},
   "source": [
    "## Classification Report\n",
    "\n",
    "| Metric | Export | Import | Accuracy | Macro Avg | Weighted Avg |\n",
    "|---|---|---|---|---|---|\n",
    "| Precision | 0.48 | 0.46 | | 0.47 | 0.47 |\n",
    "| Recall | 0.65 | 0.29 | | 0.47 | 0.47 |\n",
    "| F1-score | 0.55 | 0.36 | | 0.45 | 0.45 |\n",
    "| Support | 300 | 301 | | 601 | 601 |\n",
    "\n",
    "**Metrics:**\n",
    "\n",
    "*   **Precision:** Measures the proportion of correctly predicted \"Import\" and \"Export\" transactions out of all transactions predicted as that class.\n",
    "    \n",
    "    *   For \"Export\": 0.46 - Out of all transactions predicted as \"Export,\" 46% were actually \"Export.\"\n",
    "        \n",
    "    *   For \"Import\": 0.51 - Out of all transactions predicted as \"Import,\" 51% were actually \"Import.\"\n",
    "        \n",
    "*   **Recall:** Measures the proportion of correctly predicted \"Import\" and \"Export\" transactions out of all actual \"Import\" and \"Export\" transactions.\n",
    "    \n",
    "    *   For \"Export\": 0.71 - Out of all actual \"Export\" transactions, 71% were correctly predicted as \"Export.\"\n",
    "        \n",
    "    *   For \"Import\": 0.26 - Out of all actual \"Import\" transactions, only 26% were correctly predicted as \"Import.\"\n",
    "        \n",
    "*   **F1-score:** The harmonic mean of precision and recall, providing a balanced measure of the model's performance.\n",
    "    \n",
    "    *   For \"Export\": 0.56\n",
    "        \n",
    "    *   For \"Import\": 0.35\n",
    "        \n",
    "*   **Support:** The number of instances in each class.\n",
    "    \n",
    "    *   \"Export\": 281\n",
    "        \n",
    "    *   \"Import\": 320\n",
    "        \n",
    "\n",
    "**Insights:**\n",
    "\n",
    "*   **Class Imbalance:** The support values indicate that there is a class imbalance, with more \"Import\" transactions than \"Export\" transactions. This can affect the model's performance, especially for the minority class.\n",
    "    \n",
    "*   **Export Prediction:** The model has relatively good precision and recall for predicting \"Export\" transactions, indicating that it is able to identify \"Export\" transactions accurately.\n",
    "    \n",
    "*   **Import Prediction:** The model struggles to predict \"Import\" transactions, especially in terms of recall. This suggests that the model is missing many actual \"Import\" transactions.\n",
    "    \n",
    "*   **Overall Accuracy:** The overall accuracy of the model is 0.47, which is moderate. This indicates that the model is able to correctly predict the \"Import\" or \"Export\" category for about 47% of the transactions.\n",
    "    \n",
    "\n",
    "**Recommendations:**\n",
    "\n",
    "*   **Address Class Imbalance:** To improve the model's performance for the minority class (\"Import\"), consider techniques like oversampling, undersampling, or class weighting.\n",
    "    \n",
    "*   **Feature Engineering:** Explore additional features that might be relevant for predicting \"Import\" or \"Export\" transactions.\n",
    "    \n",
    "*   **Hyperparameter Tuning:** Experiment with different hyperparameters of the logistic regression model to see if it can improve performance.\n",
    "    \n",
    "*   **Alternative Models:** Consider using other machine learning algorithms like decision trees, random forests, or support vector machines to see if they can achieve better results.\n",
    "    \n",
    "\n",
    "By addressing these issues and exploring different approaches, you may be able to improve the model's performance in predicting \"Import\" transactions."
   ]
  },
  {
   "cell_type": "code",
   "execution_count": null,
   "id": "0e1dbfd1-2d15-4e72-aed0-6b9f571bf462",
   "metadata": {},
   "outputs": [],
   "source": []
  }
 ],
 "metadata": {
  "kernelspec": {
   "display_name": "Python 3 (ipykernel)",
   "language": "python",
   "name": "python3"
  },
  "language_info": {
   "codemirror_mode": {
    "name": "ipython",
    "version": 3
   },
   "file_extension": ".py",
   "mimetype": "text/x-python",
   "name": "python",
   "nbconvert_exporter": "python",
   "pygments_lexer": "ipython3",
   "version": "3.12.4"
  }
 },
 "nbformat": 4,
 "nbformat_minor": 5
}
